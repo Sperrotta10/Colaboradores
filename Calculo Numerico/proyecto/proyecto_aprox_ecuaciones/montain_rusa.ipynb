{
 "cells": [
  {
   "cell_type": "markdown",
   "metadata": {},
   "source": [
    "## Evaluacion 3\n",
    "#### Proyecto de montaña rusas\n",
    "\n",
    "__Integrantes:__\n",
    "\n",
    "Santiago Perrotta,  CI: 31.014.123 <br>\n",
    "Jesus Araujo,  CI: 31.200.562 <br>\n",
    "Lai Chang,  CI: 30.335.078 <br>"
   ]
  },
  {
   "cell_type": "markdown",
   "metadata": {},
   "source": [
    "### Lectura de los Datos"
   ]
  },
  {
   "cell_type": "markdown",
   "metadata": {},
   "source": []
  },
  {
   "cell_type": "markdown",
   "metadata": {},
   "source": [
    "### Metodo de Trazador Cubico Sujeto"
   ]
  },
  {
   "cell_type": "markdown",
   "metadata": {},
   "source": []
  },
  {
   "cell_type": "markdown",
   "metadata": {},
   "source": [
    "### Polinomio de Minimos Cuadrados"
   ]
  },
  {
   "cell_type": "markdown",
   "metadata": {},
   "source": [
    "Es una funcion polinomica que se ajusta a un conjunto de datos experimentales utilizando el metodo de <br>\n",
    "minimos cuadrados.\n",
    "\n",
    "\n",
    "Dado un conjunto de datos (x1,yi), queremos encontrar un polinomio de grado (m) que minimice <br>\n",
    "la suma de los errores cuadrados entre los valores observados (yi) y los valores predichos <br>\n",
    "por el polinomio.\n",
    "<br>\n",
    "\n",
    "__Pasos para realizar el Polinomio:__\n",
    "\n",
    "__Paso 1:__ <br>\n",
    "<br>\n",
    "Formula del polinomio:\n",
    "<br>\n",
    "Pn(x) = c0 + c1x + c2x^2 + ... + cmx^m\n",
    "\n",
    "__Paso 2:__ <br>\n",
    "<br>\n",
    "Minimizamos la funcion de error:\n",
    "<br>\n",
    "E = Ʃ(yi - Pn(xi))^2\n",
    "\n",
    "__Paso 3:__ <br>\n",
    "<br>\n",
    "se deriva respecto a cada coeficiente, por ejemplo si tenemos 3 coeficientes <br>\n",
    "\n",
    "dE/da0 = -2Ʃ (yi - c0 - c1x - c2x^2)\n",
    "\n",
    "dE/da1 = -2Ʃ xi(yi - c0 - c1x - c2x^2)\n",
    "\n",
    "dE/da2 = -2Ʃ xi^2(yi - c0 - c1x - c2x^2)\n",
    "\n",
    "__Paso 4:__ <br>\n",
    "<br>\n",
    "\n",
    "Se busca el minimo de cada sumatoria, igualamdo a cero la derivada y reordenando, <br>\n",
    "se obtiene el conjunto de ecuaciones:\n",
    "\n",
    "c0(n) + c1 Ʃxi + c2 Ʃxi^2 = Ʃyi\n",
    "\n",
    "c0 Ʃxi + c1 Ʃxi^2 + c2 Ʃxi^3 = Ʃxiyi\n",
    "\n",
    "c0 Ʃxi^2 + c1 Ʃxi^3 + c2 Ʃxi^4 = Ʃxi^2yi\n",
    "\n",
    "con incognitas c0, c1 y c2, cuyos coeficientes se pueden <br>\n",
    "evaluar con los puntos observados. Simplemente se resuelve <br>\n",
    "el sistema de ecuaciones para obtener los valores de los <br>\n",
    "coeficientes c0, c1 y c2\n",
    "\n",
    "__Paso 5:__\n",
    "\n",
    "Esta forma que se va a mostrar acontinuacion, es una forma <br>\n",
    "de realizar el ejercicio y asi ahorrarme hacer tantas derivadas <br>\n",
    "como incognitas haya. \n",
    "\n",
    "<br>\n",
    "Esta es una formula para saltarnos el paso 3 y obtener de una vez <br>\n",
    "el sistema de ecuaciones a resolver.\n",
    "\n",
    "n = cantidad de datos\n",
    "\n",
    "c0          c1        c2            cm       \n",
    "(n)         Ʃxi      Ʃxi^2   ....   Ʃxi^m        = Ʃyi\n",
    "Ʃxi        Ʃxi^2     Ʃxi^3   ....   Ʃxi^m+1      = Ʃxiyi\n",
    "Ʃxi^2      Ʃxi^3     Ʃxi^4   ....   Ʃxi^m+2      = Ʃxi^2yi\n",
    "....       ....      ....    ....    ....        =  .....\n",
    "Ʃxi^m     Ʃxi^m+1   Ʃxi^m+2  ....   Ʃxi^2m       = Ʃxi^myi"
   ]
  },
  {
   "cell_type": "code",
   "execution_count": 21,
   "metadata": {},
   "outputs": [],
   "source": [
    "import sympy as sy\n",
    "import numpy as np\n",
    "\n",
    "# funcion para construir el polinomio\n",
    "def polinomio(grado,x,coef):\n",
    "\n",
    "    px = 0 \n",
    "\n",
    "    for i in range(grado+1):\n",
    "        if i == 0:\n",
    "            px += coef[i]\n",
    "        else:\n",
    "            px += coef[i]*(x**i)\n",
    "\n",
    "    return px\n",
    "\n",
    "\n",
    "# funcion para calcular la suma de potencias de los xi\n",
    "def potencias_x(lista,exponente):\n",
    "\n",
    "    potencia = np.zeros((len(lista)))\n",
    "    resultado = 0\n",
    "\n",
    "    # ciclo para sacar las potencias de los xi\n",
    "    for i in range(len(lista)):\n",
    "        potencia[i] = lista[i]**exponente\n",
    "\n",
    "    # funcion sum para la sumatoria de la lista de potencias\n",
    "    resultado = np.sum(potencia)\n",
    "\n",
    "    return resultado\n",
    "\n",
    "\n",
    "# funciom para calcula las suma de la multiplicacion de (xi^n)*yi\n",
    "def multiplicacion_xiyi(lista_x,lista_y,exponente):\n",
    "\n",
    "    potencia_x = np.zeros((len(lista_x)))\n",
    "    multiplicacion = np.zeros(len(lista_x))\n",
    "    resultado = 0\n",
    "\n",
    "    if exponente != 0:\n",
    "\n",
    "        # ciclo para calcular la potencia de xi\n",
    "        for i in range(len(lista_x)):\n",
    "            potencia_x[i] = lista_x[i]**exponente\n",
    "\n",
    "        #ciclo para calcular la multiplicacion\n",
    "        for j in range(len(lista_x)):\n",
    "            multiplicacion[j] = lista_y[j] * potencia_x[j]\n",
    "\n",
    "        # funcion sum para la sumatoria de la lista de multiplicacion\n",
    "        resultado = np.sum(multiplicacion)\n",
    "\n",
    "    else:\n",
    "        resultado = np.sum(lista_y)\n",
    "\n",
    "    return resultado\n",
    "\n",
    "# funcion para construir la matriz y hallar los valores de los coeficientes\n",
    "def matriz(datos_x,datos_y,grado):\n",
    "    \n",
    "    a = np.zeros((grado+1,grado+1))\n",
    "    b = np.zeros((grado+1))\n",
    "\n",
    "    for i in range(grado+1):\n",
    "        exponente_a = i\n",
    "        exponente_b = i\n",
    "        for j in range(grado+1):\n",
    "            if i == 0 and j == 0:\n",
    "                a[i][j] = len(datos_x)\n",
    "                exponente_a += 1\n",
    "            else:\n",
    "                a[i][j] = potencias_x(datos_x,exponente_a)\n",
    "                exponente_a += 1\n",
    "        b[i] = multiplicacion_xiyi(datos_x,datos_y,exponente_b)\n",
    "\n",
    "    return a,b\n",
    "        "
   ]
  },
  {
   "cell_type": "code",
   "execution_count": null,
   "metadata": {},
   "outputs": [],
   "source": [
    "# declaracion de variables, vector de x y vector de y\n",
    "datos_x = np.array([0,1,2,3,4])\n",
    "\n",
    "datos_y = np.array([1.1,3.5,2.8,4.2,5.0])\n",
    "\n",
    "#grado_pol = input(\"Indique el grado del polinomio que desee: \")\n",
    "\n",
    "# indicamos el grado del polinomio\n",
    "grado_pol = 2\n",
    "x = sy.Symbol('x') # declaramos una incognita\n",
    "\n",
    "\n",
    "# obtenemos la matriz con las incognitas\n",
    "matriz_a, result_b = matriz(datos_x,datos_y,grado_pol)\n",
    "\n",
    "# resolvemos el sistema de ecuaciones\n",
    "solucion = np.linalg.solve(matriz_a,result_b)\n",
    "print(polinomio(grado_pol,x,solucion))\n",
    "print(solucion)"
   ]
  },
  {
   "cell_type": "markdown",
   "metadata": {},
   "source": [
    "### Polinomios Ortogonales"
   ]
  },
  {
   "cell_type": "markdown",
   "metadata": {},
   "source": []
  },
  {
   "cell_type": "markdown",
   "metadata": {},
   "source": [
    "### Resolucion de Ecuaciones"
   ]
  },
  {
   "cell_type": "markdown",
   "metadata": {},
   "source": []
  }
 ],
 "metadata": {
  "kernelspec": {
   "display_name": "Python 3",
   "language": "python",
   "name": "python3"
  },
  "language_info": {
   "codemirror_mode": {
    "name": "ipython",
    "version": 3
   },
   "file_extension": ".py",
   "mimetype": "text/x-python",
   "name": "python",
   "nbconvert_exporter": "python",
   "pygments_lexer": "ipython3",
   "version": "3.12.1"
  }
 },
 "nbformat": 4,
 "nbformat_minor": 2
}
