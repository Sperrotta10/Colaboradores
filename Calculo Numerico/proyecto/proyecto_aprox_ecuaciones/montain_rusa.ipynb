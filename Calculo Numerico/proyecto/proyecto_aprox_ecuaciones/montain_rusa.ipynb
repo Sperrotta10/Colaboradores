{
 "cells": [
  {
   "cell_type": "markdown",
   "metadata": {},
   "source": [
    "## Evaluacion 3\n",
    "#### Proyecto de montaña rusas\n",
    "\n",
    "__Integrantes:__\n",
    "\n",
    "Santiago Perrotta,  CI: 31.014.123 <br>\n",
    "Jesus Araujo,  CI: 31.200.562 <br>\n",
    "Lai Chang,  CI: 30.335.078 <br>"
   ]
  },
  {
   "cell_type": "markdown",
   "metadata": {},
   "source": [
    "### Lectura de los Datos"
   ]
  },
  {
   "cell_type": "markdown",
   "metadata": {},
   "source": []
  },
  {
   "cell_type": "markdown",
   "metadata": {},
   "source": [
    "### Metodo de Trazador Cubico Sujeto"
   ]
  },
  {
   "cell_type": "markdown",
   "metadata": {},
   "source": []
  },
  {
   "cell_type": "markdown",
   "metadata": {},
   "source": [
    "### Polinomio de Minimos Cuadrados"
   ]
  },
  {
   "cell_type": "markdown",
   "metadata": {},
   "source": [
    "Es una funcion polinomica que se ajusta a un conjunto de datos experimentales utilizando el metodo de <br>\n",
    "minimos cuadrados.\n",
    "\n",
    "\n",
    "Dado un conjunto de datos (x1,yi), queremos encontrar un polinomio de grado (m) que minimice <br>\n",
    "la suma de los errores cuadrados entre los valores observados (yi) y los valores predichos <br>\n",
    "por el polinomio.\n",
    "<br>\n",
    "\n",
    "__Pasos para realizar el Polinomio:__\n",
    "\n",
    "__Paso 1:__ <br>\n",
    "<br>\n",
    "Formula del polinomio:\n",
    "<br>\n",
    "Pn(x) = c0 + c1x + c2x^2 + ... + cmx^m\n",
    "\n",
    "__Paso 2:__ <br>\n",
    "<br>\n",
    "Minimizamos la funcion de error:\n",
    "<br>\n",
    "E = Ʃ(yi - Pn(xi))^2\n",
    "\n",
    "__Paso 3:__ <br>\n",
    "<br>\n",
    "se deriva respecto a cada coeficiente, por ejemplo si tenemos 3 coeficientes <br>\n",
    "\n",
    "dE/da0 = -2Ʃ (yi - c0 - c1x - c2x^2)\n",
    "\n",
    "dE/da1 = -2Ʃ xi(yi - c0 - c1x - c2x^2)\n",
    "\n",
    "dE/da2 = -2Ʃ xi^2(yi - c0 - c1x - c2x^2)\n",
    "\n",
    "__Paso 4:__ <br>\n",
    "<br>\n",
    "\n",
    "Se busca el minimo de cada sumatoria, igualamdo a cero la derivada y reordenando, <br>\n",
    "se obtiene el conjunto de ecuaciones:\n",
    "\n",
    "c0(n) + c1 Ʃxi + c2 Ʃxi^2 = Ʃyi\n",
    "\n",
    "c0 Ʃxi + c1 Ʃxi^2 + c2 Ʃxi^3 = Ʃxiyi\n",
    "\n",
    "c0 Ʃxi^2 + c1 Ʃxi^3 + c2 Ʃxi^4 = Ʃxi^2yi\n",
    "\n",
    "con incognitas c0, c1 y c2, cuyos coeficientes se pueden <br>\n",
    "evaluar con los puntos observados. Simplemente se resuelve <br>\n",
    "el sistema de ecuaciones para obtener los valores de los <br>\n",
    "coeficientes c0, c1 y c2\n",
    "\n",
    "__Paso 5:__\n",
    "\n",
    "Esta forma que se va a mostrar acontinuacion, es una forma <br>\n",
    "de realizar el ejercicio y asi ahorrarme hacer tantas derivadas <br>\n",
    "como incognitas haya. \n",
    "\n",
    "<br>\n",
    "Esta es una formula para saltarnos el paso 3 y obtener de una vez <br>\n",
    "el sistema de ecuaciones a resolver.\n",
    "\n",
    "n = cantidad de datos\n",
    "\n",
    "c0          c1        c2            cm       \n",
    "(n)         Ʃxi      Ʃxi^2   ....   Ʃxi^m        = Ʃyi\n",
    "Ʃxi        Ʃxi^2     Ʃxi^3   ....   Ʃxi^m+1      = Ʃxiyi\n",
    "Ʃxi^2      Ʃxi^3     Ʃxi^4   ....   Ʃxi^m+2      = Ʃxi^2yi\n",
    "....       ....      ....    ....    ....        =  .....\n",
    "Ʃxi^m     Ʃxi^m+1   Ʃxi^m+2  ....   Ʃxi^2m       = Ʃxi^myi"
   ]
  },
  {
   "cell_type": "markdown",
   "metadata": {},
   "source": [
    "### Polinomios Ortogonales"
   ]
  },
  {
   "cell_type": "markdown",
   "metadata": {},
   "source": []
  },
  {
   "cell_type": "markdown",
   "metadata": {},
   "source": [
    "### Resolucion de Ecuaciones"
   ]
  },
  {
   "cell_type": "markdown",
   "metadata": {},
   "source": []
  }
 ],
 "metadata": {
  "kernelspec": {
   "display_name": "Python 3",
   "language": "python",
   "name": "python3"
  },
  "language_info": {
   "codemirror_mode": {
    "name": "ipython",
    "version": 3
   },
   "file_extension": ".py",
   "mimetype": "text/x-python",
   "name": "python",
   "nbconvert_exporter": "python",
   "pygments_lexer": "ipython3",
   "version": "3.12.1"
  }
 },
 "nbformat": 4,
 "nbformat_minor": 2
}
