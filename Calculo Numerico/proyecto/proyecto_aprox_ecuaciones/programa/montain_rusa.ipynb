{
 "cells": [
  {
   "cell_type": "markdown",
   "metadata": {},
   "source": [
    "## Evaluacion 3\n",
    "#### Proyecto de montaña rusas\n",
    "\n",
    "__Integrantes:__\n",
    "\n",
    "Santiago Perrotta,  CI: 31.014.123 <br>\n",
    "Jesus Araujo,  CI: 31.200.562 <br>\n",
    "Lai Chang,  CI: 30.335.078 <br>"
   ]
  },
  {
   "cell_type": "markdown",
   "metadata": {},
   "source": [
    "### Lectura de los Datos"
   ]
  },
  {
   "cell_type": "markdown",
   "metadata": {},
   "source": [
    "Descargar el framework flask: <br>\n",
    "\n",
    "__pip install Flask__"
   ]
  },
  {
   "cell_type": "code",
   "execution_count": 14,
   "metadata": {},
   "outputs": [],
   "source": [
    "import requests\n",
    "import numpy as np\n",
    "import sympy as sy\n",
    "import matplotlib.pyplot as plt\n",
    "\n",
    "# Procedemos a leer los datos de la API\n",
    "\n",
    "# URLS de los datos de cada Ejercicio\n",
    "\n",
    "# EJERCICIO 1 (Trazador Cubico Sujeto)\n",
    "url_1 = \"http://127.0.0.1:5000/api/data_e1\"\n",
    "\n",
    "# EJERCICIO 2 (Polinomios de Minimos Cuadrados)\n",
    "url_2 = \"http://127.0.0.1:5000/api/data_e2\"\n",
    "\n",
    "# EJERCICIO 4 (Resolucion de Ecuaciones)\n",
    "url_4 = \"http://127.0.0.1:5000/api/data_e4\"\n",
    "\n",
    "\n",
    "# Obtenemos los datos de cada ejercicio\n",
    "\n",
    "# EJERCICIO 1 (Trazador Cubico Sujeto)\n",
    "response = requests.get(url_1)\n",
    "data = response.json()\n",
    "\n",
    "datos1_x = np.array(data[\"x\"])\n",
    "datos1_y = np.array(data[\"y\"])\n",
    "\n",
    "# EJERCICIO 2 (Polinomios de Minimos Cuadrados)\n",
    "response = requests.get(url_2)\n",
    "data = response.json()\n",
    "\n",
    "datos2_x = np.array(data[\"x\"])\n",
    "datos2_y = np.array(data[\"y\"])\n",
    "\n",
    "# EJERCICIO 4 (Resolucion de Ecuaciones)\n",
    "response = requests.get(url_4)\n",
    "data = response.json()\n",
    "\n",
    "datos4_a = np.array(data[\"a\"])\n",
    "datos4_b = np.array(data[\"b\"])"
   ]
  },
  {
   "cell_type": "markdown",
   "metadata": {},
   "source": [
    "### Metodo de Trazador Cubico Sujeto"
   ]
  },
  {
   "cell_type": "markdown",
   "metadata": {},
   "source": []
  },
  {
   "cell_type": "markdown",
   "metadata": {},
   "source": [
    "### Polinomio de Minimos Cuadrados"
   ]
  },
  {
   "cell_type": "markdown",
   "metadata": {},
   "source": [
    "Es una funcion polinomica que se ajusta a un conjunto de datos experimentales utilizando el metodo de <br>\n",
    "minimos cuadrados.\n",
    "\n",
    "\n",
    "Dado un conjunto de datos (x1,yi), queremos encontrar un polinomio de grado (m) que minimice <br>\n",
    "la suma de los errores cuadrados entre los valores observados (yi) y los valores predichos <br>\n",
    "por el polinomio.\n",
    "<br>\n",
    "\n",
    "__Pasos para realizar el Polinomio:__\n",
    "\n",
    "__Paso 1:__ <br>\n",
    "<br>\n",
    "Formula del polinomio:\n",
    "<br>\n",
    "Pn(x) = c0 + c1x + c2x^2 + ... + cmx^m\n",
    "\n",
    "__Paso 2:__ <br>\n",
    "<br>\n",
    "Minimizamos la funcion de error:\n",
    "<br>\n",
    "E = Ʃ(yi - Pn(xi))^2\n",
    "\n",
    "__Paso 3:__ <br>\n",
    "<br>\n",
    "se deriva respecto a cada coeficiente, por ejemplo si tenemos 3 coeficientes <br>\n",
    "\n",
    "dE/da0 = -2Ʃ (yi - c0 - c1x - c2x^2)\n",
    "\n",
    "dE/da1 = -2Ʃ xi(yi - c0 - c1x - c2x^2)\n",
    "\n",
    "dE/da2 = -2Ʃ xi^2(yi - c0 - c1x - c2x^2)\n",
    "\n",
    "__Paso 4:__ <br>\n",
    "<br>\n",
    "\n",
    "Se busca el minimo de cada sumatoria, igualamdo a cero la derivada y reordenando, <br>\n",
    "se obtiene el conjunto de ecuaciones:\n",
    "\n",
    "c0(n) + c1 Ʃxi + c2 Ʃxi^2 = Ʃyi\n",
    "\n",
    "c0 Ʃxi + c1 Ʃxi^2 + c2 Ʃxi^3 = Ʃxiyi\n",
    "\n",
    "c0 Ʃxi^2 + c1 Ʃxi^3 + c2 Ʃxi^4 = Ʃxi^2yi\n",
    "\n",
    "con incognitas c0, c1 y c2, cuyos coeficientes se pueden <br>\n",
    "evaluar con los puntos observados. Simplemente se resuelve <br>\n",
    "el sistema de ecuaciones para obtener los valores de los <br>\n",
    "coeficientes c0, c1 y c2\n",
    "\n",
    "__Paso 5:__\n",
    "\n",
    "Esta forma que se va a mostrar acontinuacion, es una forma <br>\n",
    "de realizar el ejercicio y asi ahorrarme hacer tantas derivadas <br>\n",
    "como incognitas haya. \n",
    "\n",
    "<br>\n",
    "Esta es una formula para saltarnos el paso 3 y obtener de una vez <br>\n",
    "el sistema de ecuaciones a resolver.\n",
    "\n",
    "n = cantidad de datos\n",
    "\n",
    "c0          c1        c2            cm       \n",
    "(n)         Ʃxi      Ʃxi^2   ....   Ʃxi^m        = Ʃyi\n",
    "Ʃxi        Ʃxi^2     Ʃxi^3   ....   Ʃxi^m+1      = Ʃxiyi\n",
    "Ʃxi^2      Ʃxi^3     Ʃxi^4   ....   Ʃxi^m+2      = Ʃxi^2yi\n",
    "....       ....      ....    ....    ....        =  .....\n",
    "Ʃxi^m     Ʃxi^m+1   Ʃxi^m+2  ....   Ʃxi^2m       = Ʃxi^myi"
   ]
  },
  {
   "cell_type": "code",
   "execution_count": 15,
   "metadata": {},
   "outputs": [],
   "source": [
    "# funcion para construir el polinomio\n",
    "def polinomio(grado,x,coef):\n",
    "\n",
    "    px = 0 \n",
    "\n",
    "    for i in range(grado+1):\n",
    "        if i == 0:\n",
    "            px += coef[i]\n",
    "        else:\n",
    "            px += coef[i]*(x**i)\n",
    "\n",
    "    return px\n",
    "\n",
    "\n",
    "# funcion para calcular la suma de potencias de los xi\n",
    "def potencias_x(lista,exponente):\n",
    "\n",
    "    potencia = np.zeros((len(lista)))\n",
    "    resultado = 0\n",
    "\n",
    "    # ciclo para sacar las potencias de los xi\n",
    "    for i in range(len(lista)):\n",
    "        potencia[i] = lista[i]**exponente\n",
    "\n",
    "    # funcion sum para la sumatoria de la lista de potencias\n",
    "    resultado = np.sum(potencia)\n",
    "\n",
    "    return resultado\n",
    "\n",
    "\n",
    "# funciom para calcula las suma de la multiplicacion de (xi^n)*yi\n",
    "def multiplicacion_xiyi(lista_x,lista_y,exponente):\n",
    "\n",
    "    potencia_x = np.zeros((len(lista_x)))\n",
    "    multiplicacion = np.zeros(len(lista_x))\n",
    "    resultado = 0\n",
    "\n",
    "    if exponente != 0:\n",
    "\n",
    "        # ciclo para calcular la potencia de xi\n",
    "        for i in range(len(lista_x)):\n",
    "            potencia_x[i] = lista_x[i]**exponente\n",
    "\n",
    "        #ciclo para calcular la multiplicacion\n",
    "        for j in range(len(lista_x)):\n",
    "            multiplicacion[j] = lista_y[j] * potencia_x[j]\n",
    "\n",
    "        # funcion sum para la sumatoria de la lista de multiplicacion\n",
    "        resultado = np.sum(multiplicacion)\n",
    "\n",
    "    else:\n",
    "        resultado = np.sum(lista_y)\n",
    "\n",
    "    return resultado\n",
    "\n",
    "# funcion para construir la matriz y hallar los valores de los coeficientes\n",
    "def sistema_ecuaciones(datos_x,datos_y,grado):\n",
    "    \n",
    "    a = np.zeros((grado+1,grado+1))\n",
    "    b = np.zeros((grado+1))\n",
    "\n",
    "    for i in range(grado+1):\n",
    "        exponente_a = i\n",
    "        exponente_b = i\n",
    "        for j in range(grado+1):\n",
    "            if i == 0 and j == 0:\n",
    "                a[i][j] = len(datos_x)\n",
    "                exponente_a += 1\n",
    "            else:\n",
    "                a[i][j] = potencias_x(datos_x,exponente_a)\n",
    "                exponente_a += 1\n",
    "        b[i] = multiplicacion_xiyi(datos_x,datos_y,exponente_b)\n",
    "\n",
    "    return a,b\n",
    "        "
   ]
  },
  {
   "cell_type": "code",
   "execution_count": 16,
   "metadata": {},
   "outputs": [
    {
     "name": "stdout",
     "output_type": "stream",
     "text": [
      "coeficiente c0 = 1.212857142857133\n",
      "coeficiente c1 = 2.9559523809524233\n",
      "coeficiente c2 = -1.3285714285714567\n",
      "coeficiente c3 = 0.20833333333333795\n"
     ]
    },
    {
     "data": {
      "image/png": "[encoded data removed]",
      "text/plain": [
       "<Figure size 640x480 with 1 Axes>"
      ]
     },
     "metadata": {},
     "output_type": "display_data"
    }
   ],
   "source": [
    "\n",
    "# indicamos el grado del polinomio\n",
    "grado_pol = 3\n",
    "x = sy.Symbol('x') # declaramos una incognita\n",
    "\n",
    "\n",
    "# obtenemos la matriz con las incognitas\n",
    "matriz_a, result_b = sistema_ecuaciones(datos2_x,datos2_y,grado_pol)\n",
    "\n",
    "\n",
    "# resolvemos el sistema de ecuaciones\n",
    "solucion = np.linalg.solve(matriz_a,result_b)\n",
    "\n",
    "# imprimimos los valores de los coeficientes\n",
    "for i in range(len(solucion)):\n",
    "    print(\"coeficiente c\" + str(i) + \" = \" + str(solucion[i]))\n",
    "\n",
    "# valores para graficar la curva ajustada\n",
    "x_range = np.linspace(0,4,100)\n",
    "y_range = np.zeros(100)\n",
    "\n",
    "# ciclo para obtener los valores de y, evaluandolos en el polinomio\n",
    "for i in range(100):\n",
    "    valor = polinomio(grado_pol,x_range[i],solucion)\n",
    "    y_range[i] = valor\n",
    "\n",
    "# graficamos los puntos originales\n",
    "fig, ax = plt.subplots()\n",
    "\n",
    "ax.scatter(datos2_x, datos2_y, label=\"(datos_x,datos_y)\")\n",
    "\n",
    "# Configurar los ejes\n",
    "ax.set_xlabel(\"Eje x\")\n",
    "ax.set_ylabel(\"Eje y\")\n",
    "\n",
    "ax.plot(x_range, y_range, color = \"green\",label=\"Interpolacion de la Estabilidad Estructural\")\n",
    "\n",
    "\n",
    "# Mostrar la leyenda y mostrar la gráfica\n",
    "ax.legend()\n",
    "plt.show()"
   ]
  },
  {
   "cell_type": "markdown",
   "metadata": {},
   "source": [
    "### Polinomios Ortogonales"
   ]
  },
  {
   "cell_type": "markdown",
   "metadata": {},
   "source": [
    "\n",
    "Los polinomios ortogonales son un conjunto especial de polinomios que tienen propiedades matemáticas únicas que los hacen útiles en diversas áreas de las matemáticas, la física y la ingeniería.\n",
    "\n",
    "#### Aplicaciones:\n",
    "\n",
    "Los polinomios ortogonales tienen una amplia gama de aplicaciones en diversas áreas, incluyendo:\n",
    "\n",
    "- Aproximación de funciones: Los polinomios ortogonales se pueden utilizar para aproximar funciones continuas con alta precisión.\n",
    "- Integración numérica: Las fórmulas de integración numérica basadas en polinomios ortogonales son eficientes y precisas.\n",
    "- Ecuaciones diferenciales: Los polinomios ortogonales se utilizan en la solución de ecuaciones diferenciales, particularmente en problemas de Sturm-Liouville.\n",
    "- Mecánica cuántica: Los polinomios ortogonales juegan un papel fundamental en la mecánica cuántica, donde se utilizan para describir los estados de energía de los sistemas cuánticos.\n",
    "- Procesamiento de señales: Los polinomios ortogonales se utilizan en diversas aplicaciones de procesamiento de señales, como el filtrado y la compresión de datos.\n",
    "\n",
    "Para mas informacion sobre el tema revisar el siguiente link: https://www.um.es/documents/118351/1884002/TFG_SANCHEZ+SALAS.pdf/0a3a3e79-5717-4aea-91ff-a3881edb4bbe "
   ]
  },
  {
   "cell_type": "code",
   "execution_count": 17,
   "metadata": {},
   "outputs": [],
   "source": [
    "def legendre_polinomio(n): #Devuelve polinomio legendre\n",
    "    x = sy.symbols('x')  # Definir una variable \n",
    "    return sy.legendre(n, x)  # Generar el polinomio de Legendre de grado n\n",
    "\n",
    "def ajustes_legendre(x_data, y_data, angulo): \n",
    "    \"\"\"\n",
    "    Ajusta los datos (x_data, y_data) usando una combinación de polinomios de Legendre de grado especificado.\n",
    "    \n",
    "    Parametros:\n",
    "    x_data (array-like): Datos en el eje x.\n",
    "    y_data (array-like): Datos en el eje y.\n",
    "    angulo (int): Grado del polinomio de Legendre.\n",
    "    \n",
    "    Returns:\n",
    "    *Función ajustada.\n",
    "    *Coeficientes de los polinomios de Legendre ajustados.\n",
    "    \"\"\"\n",
    "    x = sy.symbols('x')  # Definir una variable simbólica x\n",
    "    \n",
    "    # Generar polinomios de Legendre hasta el grado especificado\n",
    "    polinomio = [legendre_polinomio(n) for n in range(angulo + 1)] #lista comprimida\n",
    "    \n",
    "    # Construir la matriz del sistema de ecuaciones para ajustar los coeficientes\n",
    "    A = np.zeros((len(x_data), angulo + 1))  # Inicializar la matriz A con ceros\n",
    "    for i, poly in enumerate(polinomio):\n",
    "        f = sy.lambdify(x, poly, 'numpy')  # Convertir el polinomio simbólico en una función numérica\n",
    "        A[:, i] = f(x_data)  # Evaluar el polinomio en los puntos de x_data\n",
    "    \n",
    "    # Resolver el sistema lineal utilizando mínimos cuadrados \n",
    "    coeffs, _, _, _ = np.linalg.lstsq(A, y_data, rcond=None)\n",
    "    \n",
    "    # Construir la función ajustada combinando los polinomios con sus coeficientes\n",
    "    construir_funcion = sum(c * poly for c, poly in zip(coeffs, polinomio))\n",
    "    \n",
    "    return construir_funcion, coeffs\n"
   ]
  },
  {
   "cell_type": "code",
   "execution_count": 18,
   "metadata": {},
   "outputs": [
    {
     "name": "stdout",
     "output_type": "stream",
     "text": [
      "Funcion Ajustada: -0.0233333333333603*x**5 + 0.270833333333623*x**4 - 1.07500000000115*x**3 + 1.62916666666889*x**2 - 0.501666666668915*x + 0.500000000001693\n",
      "Coeficientes: [ 1.09722222 -1.15666667  1.24087302 -0.44037037  0.06190476 -0.00296296]\n"
     ]
    },
    {
     "data": {
      "text/plain": [
       "<matplotlib.legend.Legend at 0x141d495b790>"
      ]
     },
     "execution_count": 18,
     "metadata": {},
     "output_type": "execute_result"
    },
    {
     "data": {
      "image/png": "[encoded data removed]",
      "text/plain": [
       "<Figure size 1000x600 with 1 Axes>"
      ]
     },
     "metadata": {},
     "output_type": "display_data"
    }
   ],
   "source": [
    "x_data = datos1_x  #datos API\n",
    "y_data = datos1_y  #datos API\n",
    "funcion, coeffs = ajustes_legendre(x_data, y_data, 5) #funcion ajustada\n",
    "print(f\"Funcion Ajustada: {funcion}\")\n",
    "print(f\"Coeficientes: {coeffs}\")\n",
    "\n",
    "x = sy.symbols('x')\n",
    "#funcion numerica a partir de ajustada\n",
    "funcion_numerica = sy.lambdify(x, funcion, 'numpy')\n",
    "#rangos\n",
    "x_plot = np.linspace(min(x_data), max(x_data), 100)\n",
    "y_plot = funcion_numerica(x_plot)\n",
    "#grafica\n",
    "plt.figure(figsize=(10, 6))\n",
    "plt.plot(x_plot, y_plot, label='Función Ajustada', color='blue')  # Graficar la función\n",
    "plt.scatter(x_data, y_data, label='Datos Originales', color='red') #puntos\n",
    "plt.grid(True)\n",
    "plt.legend()"
   ]
  },
  {
   "cell_type": "markdown",
   "metadata": {},
   "source": [
    "### Resolucion de Ecuaciones"
   ]
  },
  {
   "cell_type": "markdown",
   "metadata": {},
   "source": [
    "La ecuaciones lineales son igualdades matematicas que involucran expresiones <br>\n",
    "algebraicas con variables y constantes, y se caracterizan por producir graficas de <br>\n",
    "lineas rectas en el plano cartesiano\n",
    "\n",
    "Datos del ejercicio: <br>\n",
    "\n",
    "datos_a = np.array([[1,2,1],[2,-1,1],[3,1,-1]]) <br>\n",
    "datos_b = np.array([4,1,-2])\n",
    "\n",
    "En este ejercicio vamos a resolver un sistema de ecuaciones de 3 incognitas <br>\n",
    "\n",
    "__Paso 1:__ <br>\n",
    "\n",
    "Vamos a usar la libreria sympy para declarar 3 incognitas\n",
    "\n",
    "__Paso 2:__ <br>\n",
    "\n",
    "Luego usamos la funcion Eq de sympy para separar cada ecuacion que tengamos\n",
    "\n",
    "__Paso 3:__ <br>\n",
    "\n",
    "Usamos la funcion solve de sympy para resolver la ecuacion lineal"
   ]
  },
  {
   "cell_type": "code",
   "execution_count": 19,
   "metadata": {},
   "outputs": [
    {
     "name": "stdout",
     "output_type": "stream",
     "text": [
      "La solución para la variable x0 es: -1/5\n",
      "La solución para la variable x1 es: 14/15\n",
      "La solución para la variable x2 es: 7/3\n"
     ]
    },
    {
     "data": {
      "image/png": "[encoded data removed]",
      "text/plain": [
       "<Figure size 640x480 with 1 Axes>"
      ]
     },
     "metadata": {},
     "output_type": "display_data"
    }
   ],
   "source": [
    "\n",
    "# definimos el numero de incognitas\n",
    "nro_incognitas = len(datos4_a)\n",
    "\n",
    "lista_incognitas = []\n",
    "\n",
    "\n",
    "# funcion para generar las incognitas\n",
    "def incognitas(nro_incognitas,lista_incognitas):\n",
    "\n",
    "    for i in range(nro_incognitas):\n",
    "        x = sy.Symbol(\"x\" + str(i))\n",
    "        lista_incognitas.append(x)\n",
    "\n",
    "\n",
    "# funcion para generar las ecuaciones\n",
    "def generar_ecuaciones(lista_incognitas,datos_a,datos_b):\n",
    "\n",
    "    lista_ec = []\n",
    "\n",
    "    if nro_incognitas == len(datos_b):\n",
    "\n",
    "        for f in range(nro_incognitas):\n",
    "            ec = 0\n",
    "            for c in range(nro_incognitas):\n",
    "                ec += datos_a[f][c]*lista_incognitas[c]\n",
    "\n",
    "            lista_ec.append(sy.Eq((ec),datos_b[f]))\n",
    "    else:\n",
    "        return None\n",
    "    \n",
    "    return lista_ec\n",
    "\n",
    "\n",
    "# generamos las incognitas\n",
    "incognitas(nro_incognitas,lista_incognitas)\n",
    "\n",
    "# generamos las ecuaciones\n",
    "ecuaciones = generar_ecuaciones(lista_incognitas,datos4_a,datos4_b)\n",
    "\n",
    "# resolvemos las ecuaciones\n",
    "solucion = sy.solve(ecuaciones, dict=True)\n",
    "\n",
    "# Imprimir la solución\n",
    "vector_solucion = []\n",
    "for variable, resultado in solucion[0].items():\n",
    "    print(f\"La solución para la variable {variable} es: {resultado}\")\n",
    "    vector_solucion.append(resultado)\n",
    "\n",
    "# graficamos los puntos originales\n",
    "fig, ax = plt.subplots()\n",
    "\n",
    "ax.plot(vector_solucion, label=\"(resultados)\")\n",
    "\n",
    "# Configurar los ejes\n",
    "ax.set_xlabel(\"Eje x\")\n",
    "ax.set_ylabel(\"Eje y\")\n",
    "\n",
    "# Mostrar la leyenda y mostrar la gráfica\n",
    "ax.legend()\n",
    "plt.show()"
   ]
  },
  {
   "cell_type": "code",
   "execution_count": null,
   "metadata": {},
   "outputs": [
    {
     "name": "stdout",
     "output_type": "stream",
     "text": [
      "La solución para la variable x0 es: -1/5\n",
      "La solución para la variable x1 es: 14/15\n",
      "La solución para la variable x2 es: 7/3\n"
     ]
    },
    {
     "data": {
      "image/png": "[encoded data removed]",
      "text/plain": [
       "<Figure size 640x480 with 1 Axes>"
      ]
     },
     "metadata": {},
     "output_type": "display_data"
    }
   ],
   "source": [
    "\n",
    "# definimos el numero de incognitas\n",
    "nro_incognitas = len(datos4_a)\n",
    "\n",
    "lista_incognitas = []\n",
    "\n",
    "\n",
    "# funcion para generar las incognitas\n",
    "def incognitas(nro_incognitas,lista_incognitas):\n",
    "\n",
    "    for i in range(nro_incognitas):\n",
    "        x = sy.Symbol(\"x\" + str(i))\n",
    "        lista_incognitas.append(x)\n",
    "\n",
    "\n",
    "# funcion para generar las ecuaciones\n",
    "def generar_ecuaciones(lista_incognitas,datos_a,datos_b):\n",
    "\n",
    "    lista_ec = []\n",
    "\n",
    "    if nro_incognitas == len(datos_b):\n",
    "\n",
    "        for f in range(nro_incognitas):\n",
    "            ec = 0\n",
    "            for c in range(nro_incognitas):\n",
    "                ec += datos_a[f][c]*lista_incognitas[c]\n",
    "\n",
    "            lista_ec.append(sy.Eq((ec),datos_b[f]))\n",
    "    else:\n",
    "        return None\n",
    "    \n",
    "    return lista_ec\n",
    "\n",
    "\n",
    "# generamos las incognitas\n",
    "incognitas(nro_incognitas,lista_incognitas)\n",
    "\n",
    "# generamos las ecuaciones\n",
    "ecuaciones = generar_ecuaciones(lista_incognitas,datos4_a,datos4_b)\n",
    "\n",
    "# resolvemos las ecuaciones\n",
    "solucion = sy.solve(ecuaciones, dict=True)\n",
    "\n",
    "# Imprimir la solución\n",
    "vector_solucion = []\n",
    "for variable, resultado in solucion[0].items():\n",
    "    print(f\"La solución para la variable {variable} es: {resultado}\")\n",
    "    vector_solucion.append(resultado)\n",
    "\n",
    "# graficamos los puntos originales\n",
    "fig, ax = plt.subplots()\n",
    "\n",
    "ax.plot(vector_solucion, label=\"(resultados)\")\n",
    "\n",
    "# Configurar los ejes\n",
    "ax.set_xlabel(\"Eje x\")\n",
    "ax.set_ylabel(\"Eje y\")\n",
    "\n",
    "# Mostrar la leyenda y mostrar la gráfica\n",
    "ax.legend()\n",
    "plt.show()"
   ]
  }
 ],
 "metadata": {
  "kernelspec": {
   "display_name": "Python 3",
   "language": "python",
   "name": "python3"
  },
  "language_info": {
   "codemirror_mode": {
    "name": "ipython",
    "version": 3
   },
   "file_extension": ".py",
   "mimetype": "text/x-python",
   "name": "python",
   "nbconvert_exporter": "python",
   "pygments_lexer": "ipython3",
   "version": "3.11.4"
  }
 },
 "nbformat": 4,
 "nbformat_minor": 2
}
