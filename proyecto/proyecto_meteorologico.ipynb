{
 "cells": [
  {
   "cell_type": "markdown",
   "metadata": {},
   "source": [
    "# Proyecto: Métodos de Interpolación\n",
    "### Análisis y Predicción de Datos Meteorológicos"
   ]
  },
  {
   "cell_type": "markdown",
   "metadata": {},
   "source": [
    "Interpolacion (BREVE EXPLICACION)"
   ]
  },
  {
   "cell_type": "markdown",
   "metadata": {},
   "source": [
    "Los datos sumisnistrados son de la ciudad __Basilea__, en Suiza de 2023; y fueron proporcionados por la pagina __meteoblue__: https://www.meteoblue.com/es/tiempo/archive/export se debe tener en cuenta que los datos se encuentran en un archivo __CSV__, por lo se debe instalar los paquetes necesarios para poder abrir el documento apropiadamente en JULIA."
   ]
  },
  {
   "cell_type": "code",
   "execution_count": null,
   "metadata": {},
   "outputs": [],
   "source": [
    "#INSTALACION DE PAQUETES\n",
    "#Instalacion de paquete para usar archivo CSV\n",
    "using Pkg\n",
    "Pkg.add(\"CSV\")\n",
    "Pkg.add(\"DataFrames\")\n",
    "\n",
    "#Intalacion de plot, permite graficar\n",
    "using Pkg\n",
    "Pkg.add(\"Plots\")"
   ]
  },
  {
   "cell_type": "markdown",
   "metadata": {},
   "source": [
    "Para acceder al archivo se importa el paquete __CSV__ y __DataFrames__ empleando la palabra '__using__' como se muestra en el codigo."
   ]
  },
  {
   "cell_type": "code",
   "execution_count": null,
   "metadata": {},
   "outputs": [],
   "source": [
    "#EJEMPLO PARA ABRIR Y LEER UN ARCHIVO\n",
    "# Importar paquetes\n",
    "using CSV\n",
    "using DataFrames\n",
    "\n",
    "# Leer el archivo CSV\n",
    "archivo_csv = \"data_Basilea.csv\" #nombre del archivo\n",
    "datos = CSV.read(archivo_csv, DataFrame) #lectura del archivo\n",
    "\n",
    "# Mostrar las primeras filas del DataFrame\n",
    "println(\"Datos Generales:\") #datos generales del archivo\n",
    "println(first(datos, 8)) #0-8 filas\n"
   ]
  },
  {
   "cell_type": "code",
   "execution_count": null,
   "metadata": {},
   "outputs": [],
   "source": [
    "#EJEMPLO A SEGUIR PARA GRAFICAS\n",
    "# Importar el paquete Plots\n",
    "using Plots\n",
    "\n",
    "# Lista de datos (temperaturas)\n",
    "temperaturas = [20, 21, 19, 22, 23, 20, 21]\n",
    "\n",
    "# Crear un vector de días (suponiendo que cada valor en la lista corresponde a un día)\n",
    "dias = 1:length(temperaturas)\n",
    "\n",
    "# Graficar los datos\n",
    "plot(dias, temperaturas, label=\"Temperatura\", xlabel=\"Días\", ylabel=\"Temperatura (°C)\", title=\"Temperaturas Diarias\")"
   ]
  },
  {
   "cell_type": "markdown",
   "metadata": {},
   "source": [
    "### Interpolación de Taylor"
   ]
  },
  {
   "cell_type": "markdown",
   "metadata": {},
   "source": [
    "Informacion general en base a la teroria\n",
    "* Se estable un rango de puntos conocidos, que permiten aproximar valores.\n",
    "* Se construye un polinomio Pn(x) de grado menor o igual que n. (Polinomio de Taylor)\n",
    "\n",
    "Para mayor informacion revisar el siguiente link: https://rua.ua.es/dspace/bitstream/10045/102428/1/tema2.pdf"
   ]
  },
  {
   "cell_type": "markdown",
   "metadata": {},
   "source": [
    "Aplicando teoria en julia: <br>\n",
    "Mediante los datos de entrada que serian los dias de una semana, se puede busca predecir un dia especifico, en este caso se tomara la segunda semana de 2023 que va el del 8 al 15 de enero, y el dia que se desea predecir es el 16 de enero."
   ]
  },
  {
   "cell_type": "code",
   "execution_count": 24,
   "metadata": {},
   "outputs": [
    {
     "data": {
      "text/plain": [
       "9.525244999999998"
      ]
     },
     "execution_count": 24,
     "metadata": {},
     "output_type": "execute_result"
    }
   ],
   "source": [
    "# Importar paquetes\n",
    "using CSV\n",
    "using DataFrames\n",
    "using LinearAlgebra \n",
    "using Plots\n",
    "\n",
    "\n",
    "# Leer el archivo CSV\n",
    "archivo = \"data_Basilea.csv\" #nombre del archivo\n",
    "datos = CSV.read(archivo, DataFrame) #lectura del archivo\n",
    "\n",
    "#puntos seleccionados de una semana\n",
    "#'parse.' convierte str a float\n",
    "#'collect' convierte en vector-lista\n",
    "vector = collect(parse.(Float64, datos[10:16, 2]))\n",
    "\n",
    "\n",
    "#ACOMODAR/ AGREGAR RANDON PART FOR WEEKS/ ADD PLOT DATA OF INTERPOLACION\n",
    "\n",
    "# Función para calcular la derivada de primer orden (diferencia finita)\n",
    "function primera_derivada(x)\n",
    "    derivada = diff(x)\n",
    "\n",
    "    return derivada\n",
    "end\n",
    "\n",
    "# Calcular la serie de Taylor\n",
    "function taylor_interpolacion(x, punto_a_predecir)\n",
    "    # Orden de la serie de Taylor (para este ejemplo usamos 2)\n",
    "    orden = 2\n",
    "    \n",
    "    # Calcular derivadas\n",
    "    primera_deriv = primera_derivada(x)\n",
    "    segunda_deriv = primera_derivada(primera_deriv)\n",
    "    \n",
    "    # Último valor conocido (base para la expansión de Taylor)\n",
    "    ultimo_valor = x[end]\n",
    "    \n",
    "    # Predicción usando serie de Taylor\n",
    "    prediccion = ultimo_valor\n",
    "    if orden >= 1\n",
    "        # Termino de la primera derivada\n",
    "        prediccion += primera_deriv[end]\n",
    "    end\n",
    "    if orden >= 2\n",
    "        # Termino de la segunda derivada\n",
    "        prediccion += segunda_deriv[end] / 2\n",
    "    end\n",
    "    \n",
    "    return prediccion\n",
    "end\n",
    "\n",
    "# Predicción del día 8\n",
    "prediccion_dia_8 = taylor_interpolacion(vector, 8) #10 \n",
    "\n",
    "\n",
    "\n",
    "\n",
    "#cantidad de dias 1:length(vector)\n",
    "\n",
    "#grafica puntos seleccionados\n",
    "#plot(dias, 1:length(vector), label=\"Temperatura\", xlabel=\"Días\", ylabel=\"Temperatura (°C)\", title=\"Temperaturas Diarias de una semana\")"
   ]
  },
  {
   "cell_type": "markdown",
   "metadata": {},
   "source": [
    "### Interpolación de Lagrange"
   ]
  },
  {
   "cell_type": "markdown",
   "metadata": {},
   "source": []
  },
  {
   "cell_type": "markdown",
   "metadata": {},
   "source": [
    "### Interpolación de Hermite"
   ]
  },
  {
   "cell_type": "code",
   "execution_count": null,
   "metadata": {},
   "outputs": [],
   "source": []
  },
  {
   "cell_type": "markdown",
   "metadata": {},
   "source": [
    "### Interpolación de Polinomicas a Trozos"
   ]
  },
  {
   "cell_type": "code",
   "execution_count": null,
   "metadata": {},
   "outputs": [],
   "source": []
  }
 ],
 "metadata": {
  "kernelspec": {
   "display_name": "Julia 1.6.7",
   "language": "julia",
   "name": "julia-1.6"
  },
  "language_info": {
   "file_extension": ".jl",
   "mimetype": "application/julia",
   "name": "julia",
   "version": "1.6.7"
  }
 },
 "nbformat": 4,
 "nbformat_minor": 2
}
