{
 "cells": [
  {
   "cell_type": "markdown",
   "metadata": {},
   "source": [
    "\n",
    "# JULIA DOCUMENTANCIÓN\n",
    "<br>\n",
    "Elaborado por: Jesús Araujo, Lai Chang y Santiago Perrotta."
   ]
  },
  {
   "cell_type": "markdown",
   "metadata": {},
   "source": [
    "#### __1. ¿Qué es?__"
   ]
  },
  {
   "cell_type": "markdown",
   "metadata": {},
   "source": [
    "Es un lenguaje de programación gratuito y de código abierto para computación científica, técnica y genérica de alto rendimiento y alto nivel diseñado para realizar análisis numérico. Fue creado en 2009 por Alan Edelman, Stefan Karpinski, Jeff Bezanson y Viral Shah y se ha vuelto popular por su sintaxis expresiva y sus paquetes de Machine Learning de alta velocidad."
   ]
  },
  {
   "cell_type": "markdown",
   "metadata": {},
   "source": [
    "#### __2. ¿Cómo instalar?__"
   ]
  },
  {
   "cell_type": "markdown",
   "metadata": {},
   "source": [
    "__2.1. Instalar para Windows__"
   ]
  },
  {
   "cell_type": "markdown",
   "metadata": {},
   "source": [
    "* paso 1: Ir al sitio web de julia \"https://julialang.org/downloads/\"\n",
    "* paso 2: Instalar la version de julia mas estable (1.10.3v)\n",
    "* paso 3: Ejecute el instalador y elija la carpeta predeterminada o escoja la ruta donde quiere que se instale"
   ]
  },
  {
   "cell_type": "markdown",
   "metadata": {},
   "source": [
    "__2.2. Instalar para Linux__"
   ]
  },
  {
   "cell_type": "markdown",
   "metadata": {},
   "source": [
    "* paso 1: Ir al sitio web de julia \"https://julialang.org/downloads/\"\n",
    "* paso 2: Instalar la version de julia mas estable (1.10.3v)\n",
    "* paso 3: Extrae el archivo descargado con el comando (tar zxvf julia-1.10.3-linux-x86_64.tar.gz)\n",
    "* paso 4: Añada Julia a tu variable de entorno PATH editando el archivo (~/.bashrc) y añadiendo la línea (export PATH=\"$PATH:/home/tu_usuario/julia-1.10.3/bin\")\n",
    "* paso 5: Ejecuta source (~/.bashrc) para que los cambios tengan efecto"
   ]
  },
  {
   "cell_type": "markdown",
   "metadata": {},
   "source": [
    "__2.3. Instalar para MacOs__"
   ]
  },
  {
   "cell_type": "markdown",
   "metadata": {},
   "source": [
    "* paso 1: abra la terminal\n",
    "* paso 2: Ejecuta el comando (curl -fsSL https://install.julialang.org | sh)\n",
    "* paso 3: Una vez instalado, Julia estará disponible a través de la interfaz de línea de comandos"
   ]
  },
  {
   "cell_type": "markdown",
   "metadata": {},
   "source": [
    "__Opcional__\n",
    "\n",
    "si quiere trabajar con __Jupyter notebook__\n",
    "\n",
    "* paso 1: abra la terminal de julia\n",
    "* paso 2: escriba un \"]\" para entrar al administrador de paquetes\n",
    "* paso 3: escriba \"add IJulia\" para instalar el paquete de IJulia \"este paquete es para instalar el kernel de julia y poder trabajar con jupyter notebook\""
   ]
  },
  {
   "cell_type": "markdown",
   "metadata": {},
   "source": [
    "#### __3. Paquetes__"
   ]
  },
  {
   "cell_type": "markdown",
   "metadata": {},
   "source": [
    "En julia es posible aumentar su capacidad utilizando paquetes (ya sea con los que vienen en la instalacion base como con externos).\n",
    "Los paquetes son invocados (despues de haber sido instalados) usando la sintaxis:"
   ]
  },
  {
   "cell_type": "markdown",
   "metadata": {},
   "source": [
    "__using nombre_paquete__"
   ]
  },
  {
   "cell_type": "markdown",
   "metadata": {},
   "source": [
    "Para administrar los paquetes en julia se usa el paquete (pkg). La sintaxis para instalar un paquete es:"
   ]
  },
  {
   "cell_type": "markdown",
   "metadata": {},
   "source": [
    "* __using Pkg__\n",
    "* __Pkg.add(\"nombre_del_paquete\")__"
   ]
  },
  {
   "cell_type": "markdown",
   "metadata": {},
   "source": [
    "Algo importante es que el ordenador debe de estar conectado a internet para descargar los archivos binarios del paquete a instalar. Los\n",
    "archivos descargados son guardados en la carpeta: ~/.julia/environments/"
   ]
  },
  {
   "cell_type": "markdown",
   "metadata": {},
   "source": [
    "__3.1. Comandos Utiles de Julia__"
   ]
  },
  {
   "cell_type": "markdown",
   "metadata": {},
   "source": [
    "* __Pkg.rm(\"nombre_del_paquete\")__ --> Elimina un paquete\n",
    "* __Pkg.build(\"nombre_del_paquete\")__ --> Reconstruye un paquete desde sus archivos binarios\n",
    "* __Pkg.status()__ --> Provee una lista de los paquetes instalados\n",
    "* __Pkg.update()__ --> Actualiza los paquetes instalados"
   ]
  },
  {
   "cell_type": "markdown",
   "metadata": {},
   "source": [
    "#### __4. Comentarios__  \n",
    "\n",
    "Comentar o dejar documentación en diferentes partes de un código es muy útil para explicar en detalle que es exactamente qué cálculos se están realizando. Esto es particularmente útil cuando el código es compartido con otra persona o con uno mismo en el futuro.\n"
   ]
  },
  {
   "cell_type": "markdown",
   "metadata": {},
   "source": [
    "__4.1. Tipos__\n",
    "\n",
    "* __4.1.1.Comentarios de una sola línea__: inician con # \n",
    "(Todo lo que precede a este símbolo será parte del comentario.)"
   ]
  },
  {
   "cell_type": "code",
   "execution_count": 41,
   "metadata": {},
   "outputs": [],
   "source": [
    "#Este es un comentario de una linea en Julia\n",
    "#Este es otro comentario"
   ]
  },
  {
   "cell_type": "markdown",
   "metadata": {},
   "source": [
    "* __4.1.2. Comentarios de bloque__: inician con #= y cierran con =#\n",
    "Estos comentarios son útiles para escribir documentación detallada que requiera de varias líneas."
   ]
  },
  {
   "cell_type": "code",
   "execution_count": 42,
   "metadata": {},
   "outputs": [],
   "source": [
    "#= \n",
    "    esto\n",
    "    es un\n",
    "    coemntario de bloque\n",
    " =#"
   ]
  },
  {
   "cell_type": "markdown",
   "metadata": {},
   "source": [
    "\n",
    "#### __5. Variables__"
   ]
  },
  {
   "cell_type": "markdown",
   "metadata": {},
   "source": [
    "Una variable es un elemento de datos con nombre que puede almacenar diferentes tipos de datos durante la ejecución de un programa. Las variables son fundamentales para el desarrollo de software y la creación de aplicaciones eficientes, ya que permiten a los desarrolladores manipular e interactuar con la información de manera dinámica."
   ]
  },
  {
   "cell_type": "markdown",
   "metadata": {},
   "source": [
    "En Julia para declarar variables: __nombre_de_la_varaible = valor__\n",
    "\n",
    "El valor asignado corresponde a un tipo de dato"
   ]
  },
  {
   "cell_type": "markdown",
   "metadata": {},
   "source": [
    "__Importante:__\n",
    "\n",
    "* Las variables deben tener nombres significativos\n",
    "* No deben empezar con numeros\n",
    "* No deben contener caracteres como @\n",
    "* No pueden ser palabras reservadas"
   ]
  },
  {
   "cell_type": "markdown",
   "metadata": {},
   "source": [
    "__5.1. Tipos de Variables__\n",
    "\n",
    "* 5.1.1.Int (entero)\n",
    "* 5.1.2.Float (decimal)\n",
    "* 5.1.3.String (cadena)\n",
    "* 5.1.4.Char (caracter)\n",
    "* 5.1.5.Booleano (logico)"
   ]
  },
  {
   "cell_type": "markdown",
   "metadata": {},
   "source": [
    "__5.1.1. Int (entero)__"
   ]
  },
  {
   "cell_type": "code",
   "execution_count": 43,
   "metadata": {},
   "outputs": [
    {
     "data": {
      "text/plain": [
       "Int64"
      ]
     },
     "execution_count": 43,
     "metadata": {},
     "output_type": "execute_result"
    }
   ],
   "source": [
    "# 64-bit system\n",
    "numero = 10\n",
    "typeof(numero)"
   ]
  },
  {
   "cell_type": "markdown",
   "metadata": {},
   "source": [
    "__5.1.2. Float (decimal)__"
   ]
  },
  {
   "cell_type": "code",
   "execution_count": 44,
   "metadata": {},
   "outputs": [
    {
     "data": {
      "text/plain": [
       "Float64"
      ]
     },
     "execution_count": 44,
     "metadata": {},
     "output_type": "execute_result"
    }
   ],
   "source": [
    "# 64-bit system\n",
    "numero = 6.23\n",
    "typeof(numero)"
   ]
  },
  {
   "cell_type": "markdown",
   "metadata": {},
   "source": [
    "__5.1.3. String (cadena)__"
   ]
  },
  {
   "cell_type": "code",
   "execution_count": 45,
   "metadata": {},
   "outputs": [
    {
     "data": {
      "text/plain": [
       "String"
      ]
     },
     "execution_count": 45,
     "metadata": {},
     "output_type": "execute_result"
    }
   ],
   "source": [
    "# Cadena de caracteres\n",
    "nombre = \"Luis Carlos\"\n",
    "typeof(nombre)"
   ]
  },
  {
   "cell_type": "markdown",
   "metadata": {},
   "source": [
    "__5.1.4. Char (caracter)__"
   ]
  },
  {
   "cell_type": "code",
   "execution_count": 46,
   "metadata": {},
   "outputs": [
    {
     "data": {
      "text/plain": [
       "Char"
      ]
     },
     "execution_count": 46,
     "metadata": {},
     "output_type": "execute_result"
    }
   ],
   "source": [
    "# un caracter\n",
    "character = 'a'\n",
    "typeof(character)"
   ]
  },
  {
   "cell_type": "markdown",
   "metadata": {},
   "source": [
    "__5.1.5. Booleano (logico)__"
   ]
  },
  {
   "cell_type": "code",
   "execution_count": 47,
   "metadata": {},
   "outputs": [
    {
     "data": {
      "text/plain": [
       "Bool"
      ]
     },
     "execution_count": 47,
     "metadata": {},
     "output_type": "execute_result"
    }
   ],
   "source": [
    "# una variable logica verdadera\n",
    "logic1 = true\n",
    "typeof(logic1)\n",
    "\n",
    "# una variable logica falsa\n",
    "logic2 = false\n",
    "typeof(logic2)"
   ]
  },
  {
   "cell_type": "markdown",
   "metadata": {},
   "source": [
    "\n",
    "__5.2. Variables Globales__\n",
    "\n",
    "En Julia, las variables globales se definen en el ámbito global y pueden ser accedidas desde cualquier parte del código."
   ]
  },
  {
   "cell_type": "markdown",
   "metadata": {},
   "source": [
    "__5.2.1. Declaración de variables globales:__\n",
    "\n",
    " La palabra clave '__global__' se utiliza para acceder a una variable desde una función o bloque de código; esta se agrega al principio de la linea de codigo donde se quiere declarar la variable global, y posteriormente se agrega el nombre de la variable, cabe mencionar que el valor de la variable se puede agregar después de la declaración global o cuando se realice la misma."
   ]
  },
  {
   "cell_type": "code",
   "execution_count": 48,
   "metadata": {},
   "outputs": [
    {
     "data": {
      "text/plain": [
       "56"
      ]
     },
     "execution_count": 48,
     "metadata": {},
     "output_type": "execute_result"
    }
   ],
   "source": [
    "# DECLARACION DE VARIABLE GLOBAL (Ejemplo)\n",
    "global varible_global = 56"
   ]
  },
  {
   "cell_type": "markdown",
   "metadata": {},
   "source": [
    "__Nota__: Las variables globales pueden cambiar de tipo y valor en cualquier momento (debido a que Julia es un lenguaje multihilo). Pero se recomienda utilizar variables locales en lugar de globales para mantener un código más limpio y eficiente, ya que se dificulta el seguimiento del código y puede afectar el rendimiento."
   ]
  },
  {
   "cell_type": "markdown",
   "metadata": {},
   "source": [
    "\n",
    "__6. Operaciones Matemáticas Basicas__\n",
    "    \n",
    "Julia permite hacer las siguientes operaciones:\n",
    "* 6.1. Suma (+)\n",
    "* 6.2. Resta (-)\n",
    "* 6.3. Multiplicación (*)\n",
    "* 6.4. División (/)\n",
    "* 6.5. Potencia (^)\n",
    "* 6.6. Módulo (%)"
   ]
  },
  {
   "cell_type": "markdown",
   "metadata": {},
   "source": [
    "__6.1. Suma (+)__"
   ]
  },
  {
   "cell_type": "code",
   "execution_count": 49,
   "metadata": {},
   "outputs": [
    {
     "data": {
      "text/plain": [
       "8"
      ]
     },
     "execution_count": 49,
     "metadata": {},
     "output_type": "execute_result"
    }
   ],
   "source": [
    "#Variables\n",
    "x=3 \n",
    "y=5\n",
    "#operacion de suma\n",
    "x+y "
   ]
  },
  {
   "cell_type": "markdown",
   "metadata": {},
   "source": [
    "__6.2. Resta (-)__"
   ]
  },
  {
   "cell_type": "code",
   "execution_count": 50,
   "metadata": {},
   "outputs": [
    {
     "data": {
      "text/plain": [
       "-2"
      ]
     },
     "execution_count": 50,
     "metadata": {},
     "output_type": "execute_result"
    }
   ],
   "source": [
    "#Variables\n",
    "y=5\n",
    "#operacion de resta\n",
    "x-y "
   ]
  },
  {
   "cell_type": "markdown",
   "metadata": {},
   "source": [
    "__6.3. Multiplicación (*)__"
   ]
  },
  {
   "cell_type": "code",
   "execution_count": 51,
   "metadata": {},
   "outputs": [
    {
     "data": {
      "text/plain": [
       "15"
      ]
     },
     "execution_count": 51,
     "metadata": {},
     "output_type": "execute_result"
    }
   ],
   "source": [
    "#Variables\n",
    "x=3 \n",
    "y=5\n",
    "#operacion de multiplicación\n",
    "x*y "
   ]
  },
  {
   "cell_type": "markdown",
   "metadata": {},
   "source": [
    "__6.4. División (/)__"
   ]
  },
  {
   "cell_type": "code",
   "execution_count": 52,
   "metadata": {},
   "outputs": [
    {
     "data": {
      "text/plain": [
       "5.0"
      ]
     },
     "execution_count": 52,
     "metadata": {},
     "output_type": "execute_result"
    }
   ],
   "source": [
    "#Variables \n",
    "x=25 \n",
    "y=5\n",
    "#operacion de división\n",
    "x/y "
   ]
  },
  {
   "cell_type": "markdown",
   "metadata": {},
   "source": [
    "__6.5. Potencia (^)__"
   ]
  },
  {
   "cell_type": "code",
   "execution_count": 53,
   "metadata": {},
   "outputs": [
    {
     "data": {
      "text/plain": [
       "9"
      ]
     },
     "execution_count": 53,
     "metadata": {},
     "output_type": "execute_result"
    }
   ],
   "source": [
    "#Variables \n",
    "x=3\n",
    "y=2\n",
    "#operacion de potencia\n",
    "x^y "
   ]
  },
  {
   "cell_type": "markdown",
   "metadata": {},
   "source": [
    "__6.6. Módulo (%)__"
   ]
  },
  {
   "cell_type": "code",
   "execution_count": 54,
   "metadata": {},
   "outputs": [
    {
     "data": {
      "text/plain": [
       "1"
      ]
     },
     "execution_count": 54,
     "metadata": {},
     "output_type": "execute_result"
    }
   ],
   "source": [
    "#Variables \n",
    "x=3\n",
    "y=2\n",
    "#operacion de módulo\n",
    "x%y "
   ]
  },
  {
   "cell_type": "markdown",
   "metadata": {},
   "source": [
    "#### __7. Condicionales__\n",
    "\n",
    "Los condicionales se utilizan para controlar el flujo del programa, ejecutando bloques de código diferentes según distintas condiciones.\n",
    "\n",
    "La sintaxis básica para los condicionales en Julia es la siguiente:\n",
    "\n",
    "    if condicion\n",
    "        # Bloque de código que se ejecuta si la condición es verdadera\n",
    "    elseif otra_condicion\n",
    "        # Bloque de código que se ejecuta si la primera condición es falsa y otra_condicion es verdadera\n",
    "    else\n",
    "        # Bloque de código que se ejecuta si ninguna de las condiciones anteriores es verdadera\n",
    "    end\n",
    "\n",
    "Ya sabiendo la estructura y como se usan los condicionales. vamos a hablar de los operadores lógicos. Estos operadores son fundamentales porque son los que utilizamos para realizar comparaciones y evaluar las condiciones en nuestros programas.\n"
   ]
  },
  {
   "cell_type": "markdown",
   "metadata": {},
   "source": [
    "__7. 1 Operadores__\n",
    "\n",
    "\n",
    "Los operadores lógicos nos permiten establecer reglas más complejas y precisas dentro de los condicionales, ayudándonos a tomar decisiones basadas en múltiples criterios. En Julia, existen varios tipos de operadores lógicos que podemos emplear para este propósito, y a continuación, describiremos los más comunes y su uso."
   ]
  },
  {
   "cell_type": "markdown",
   "metadata": {},
   "source": [
    "__7. 2 Operadores de comparación__\n",
    "\n",
    "Estos operadores se utilizan para comparar valores numéricos, de texto o de cualquier otro tipo compatible. Los operadores de comparación más comunes son:"
   ]
  },
  {
   "cell_type": "code",
   "execution_count": 55,
   "metadata": {},
   "outputs": [
    {
     "name": "stdout",
     "output_type": "stream",
     "text": [
      "3 < 5: true\n",
      "5 > 3: true\n",
      "3 <= 3: true\n",
      "5 >= 3: true\n",
      "3 == 3: true\n",
      "3 != 5: true\n"
     ]
    }
   ],
   "source": [
    "# Operador < (menor que): Verifica si el valor a la izquierda es menor que el valor a la derecha\n",
    "println(\"3 < 5: \", 3 < 5)  # true\n",
    "\n",
    "# Operador > (mayor que): Verifica si el valor a la izquierda es mayor que el valor a la derecha\n",
    "println(\"5 > 3: \", 5 > 3)  # true\n",
    "\n",
    "# Operador <= (menor o igual que): Verifica si el valor a la izquierda es menor o igual que el valor a la derecha.\n",
    "println(\"3 <= 3: \", 3 <= 3)  # true\n",
    "\n",
    "# Operador >= (mayor o igual que): Verifica si el valor a la izquierda es mayor o igual que el valor a la derecha.\n",
    "println(\"5 >= 3: \", 5 >= 3)  # true\n",
    "\n",
    "# Operador == (igual a): Verifica si los dos valores son iguales.\n",
    "println(\"3 == 3: \", 3 == 3)  # true\n",
    "\n",
    "# Operador != (no es igual a): Verifica si los dos valores no son iguales\n",
    "println(\"3 != 5: \", 3 != 5)  # true"
   ]
  },
  {
   "cell_type": "markdown",
   "metadata": {},
   "source": [
    "__7. 3 Operadores Lógicos__\n",
    "\n",
    "Además de los operadores de comparación, también tenemos operadores lógicos que nos permiten combinar varias condiciones:"
   ]
  },
  {
   "cell_type": "code",
   "execution_count": 56,
   "metadata": {},
   "outputs": [
    {
     "name": "stdout",
     "output_type": "stream",
     "text": [
      "true | false: true\n",
      "false | false: false\n",
      "true || false: true\n",
      "false || true: true\n",
      "true & true: true\n",
      "true & false: false\n",
      "true && true: true\n",
      "false && true: false\n",
      "!true: false\n",
      "!false: true\n"
     ]
    }
   ],
   "source": [
    "# Operador | (OR): Devuelve true si al menos una de las condiciones es verdadera\n",
    "println(\"true | false: \", true | false)  # true\n",
    "println(\"false | false: \", false | false)  # true\n",
    "\n",
    "# Operador || (OR corto circuito): Devuelve true si al menos una de las condiciones es verdadera; no evalúa la segunda condición si la primera ya es verdadera.\n",
    "println(\"true || false: \", true || false)  # true\n",
    "println(\"false || true: \", false || true)  # true\n",
    "\n",
    "# Operador & (AND): Devuelve true si todas las condiciones son verdaderas\n",
    "println(\"true & true: \", true & true)  # true\n",
    "println(\"true & false: \", true & false) # false\n",
    "\n",
    "# Operador && (AND corto circuito): Devuelve true si todas las condiciones son verdaderas; no evalúa la segunda condición si la primera es falsa.\n",
    "println(\"true && true: \", true && true)  # true\n",
    "println(\"false && true: \", false && true)  # false\n",
    "\n",
    "# Operador ! (NOT): Invierte el valor de una condición, cambiando true a false y viceversa\n",
    "println(\"!true: \", !true)  # false\n",
    "println(\"!false: \", !false)  # true"
   ]
  },
  {
   "cell_type": "markdown",
   "metadata": {},
   "source": [
    "Ahora que ya vimos como son los operadores y como se utilizan, podemos plantear un ejemplo práctico como puede ser:"
   ]
  },
  {
   "cell_type": "code",
   "execution_count": 57,
   "metadata": {},
   "outputs": [
    {
     "name": "stdout",
     "output_type": "stream",
     "text": [
      "Adulto\n"
     ]
    }
   ],
   "source": [
    "# Definimos la variable de edad con la que vamos a trabajar y comparar\n",
    "edad = 25\n",
    "\n",
    "# Evaluamos la condición para determinar la categoría de edad y ejecutamos el bloque de código correspondiente\n",
    "\n",
    "# Si la edad es menor que 13, imprimimos \"Niño\"\n",
    "if edad < 13\n",
    "    println(\"Niño\")\n",
    "# Si la edad es mayor o igual a 13 y menor o igual a 19, imprimimos \"Adolescente\"\n",
    "elseif edad >= 13 && edad <= 19\n",
    "    println(\"Adolescente\")\n",
    "# Si la edad es mayor o igual a 20 y menor o igual a 64, imprimimos \"Adulto\"\n",
    "elseif edad >= 20 && edad <= 64\n",
    "    println(\"Adulto\")\n",
    "# Si ninguna de las condiciones anteriores se cumple, significa que la edad es mayor o igual a 65, por lo tanto, imprimimos \"Anciano\"\n",
    "else\n",
    "    println(\"Anciano\")\n",
    "end\n",
    "\n"
   ]
  },
  {
   "cell_type": "markdown",
   "metadata": {},
   "source": [
    "#### __8. Ciclos (Loops)__\n",
    "\n",
    "Los ciclos o Loops son bucles que sirven para realizar operaciones de manera repetida. En Julia existen dos tipos de Loops:"
   ]
  },
  {
   "cell_type": "markdown",
   "metadata": {},
   "source": [
    "* __8.1. Loop for__: Realiza la misma acción un número determinado de veces. Su sintaxis es como sigue:\n",
    "\n",
    "for expresión_iterable\n",
    "\n",
    "        Comando 1 \n",
    "        Comando 2\n",
    "        Comando 3\n",
    "        ...\n",
    "\n",
    "    end\n",
    "\n",
    "Un ejemplo práctico podría ser:"
   ]
  },
  {
   "cell_type": "code",
   "execution_count": 58,
   "metadata": {},
   "outputs": [
    {
     "name": "stdout",
     "output_type": "stream",
     "text": [
      "i: 1 suma parcial: 1\n",
      "i: 2 suma parcial: 3\n",
      "i: 3 suma parcial: 6\n",
      "i: 4 suma parcial: 10\n",
      "i: 5 suma parcial: 15\n",
      "i: 6 suma parcial: 21\n",
      "i: 7 suma parcial: 28\n",
      "i: 8 suma parcial: 36\n",
      "i: 9 suma parcial: 45\n",
      "i: 10 suma parcial: 55\n",
      "La suma total es: 55\n"
     ]
    }
   ],
   "source": [
    "# Inicializamos una variable para almacenar la suma\n",
    "suma = 0\n",
    "\n",
    "# Ciclo for que itera sobre un rango de números del 1 al 10, que \"i\" empieza en 1 y termina en 10\n",
    "for i in 1:10\n",
    "    # Añadimos el valor de i a la suma\n",
    "    suma += i\n",
    "    # Imprimimos el valor actual de i y la suma parcial\n",
    "    println(\"i: \", i, \" suma parcial: \", suma)\n",
    "end\n",
    "\n",
    "# Imprimimos la suma total después de completar el ciclo\n",
    "println(\"La suma total es: \", suma)\n"
   ]
  },
  {
   "cell_type": "markdown",
   "metadata": {},
   "source": [
    "__8. 2 Loop While__: Realiza la misma acción hasta que una condición se cumpla. Su sintaxis es como sigue:\n",
    "\n",
    "while Condición\n",
    "\n",
    "    Comando 1\n",
    "    Comando 2\n",
    "    Comando3\n",
    "    ...\n",
    "end\n",
    "\n",
    "un ejemplo práctico podría ser:"
   ]
  },
  {
   "cell_type": "code",
   "execution_count": 59,
   "metadata": {},
   "outputs": [
    {
     "name": "stdout",
     "output_type": "stream",
     "text": [
      "El número es: 1\n",
      "El número es: 2\n",
      "El número es: 3\n",
      "El número es: 4\n"
     ]
    }
   ],
   "source": [
    "numero_mayor = 5\n",
    "numero_menor = 1\n",
    "\n",
    "# Iniciamos un ciclo while que se ejecutará mientras numero_mayor sea mayor que numero_menor\n",
    "while numero_mayor > numero_menor\n",
    "    # Imprimimos el valor actual del numero menor\n",
    "    println(\"El número es: \", numero_menor)\n",
    "    \n",
    "    # Incrementamos el valor de numero_menor en 1\n",
    "    numero_menor += 1\n",
    "end"
   ]
  },
  {
   "cell_type": "markdown",
   "metadata": {},
   "source": [
    "#### __9. Arrays__\n",
    "Los arrays son un tipo de estructura que contiene datos relacionados, con ellos pueden ser representados vectores y matrices.\n",
    "\n",
    "En Julia los Arrays son listas, que pueden contener más de un tipo de dato, según este sea creado o inicializado, además implementa métodos para incrementar y eliminar elementos. También, a diferencia de otras estructuras los array pueden tener datos duplicados."
   ]
  },
  {
   "cell_type": "markdown",
   "metadata": {},
   "source": [
    "__9. 1  Inicialización de un array__\n",
    "\n",
    "El array puede ser inicializado de diversas maneras, las cuales son:"
   ]
  },
  {
   "cell_type": "markdown",
   "metadata": {},
   "source": [
    "* __Usando el constructor explícito__"
   ]
  },
  {
   "cell_type": "code",
   "execution_count": 60,
   "metadata": {},
   "outputs": [
    {
     "data": {
      "text/plain": [
       "5×2×2 Array{Float64, 3}:\n",
       "[:, :, 1] =\n",
       " 8.89767e-315  1.19997e-315\n",
       " 1.19997e-315  1.19997e-315\n",
       " 1.19997e-315  8.89767e-315\n",
       " 1.19997e-315  1.19997e-315\n",
       " 1.19997e-315  1.19997e-315\n",
       "\n",
       "[:, :, 2] =\n",
       " 1.19997e-315  1.19997e-315\n",
       " 1.19997e-315  1.19997e-315\n",
       " 1.19997e-315  1.19997e-315\n",
       " 1.19997e-315  1.19997e-315\n",
       " 1.19997e-315  0.0"
      ]
     },
     "execution_count": 60,
     "metadata": {},
     "output_type": "execute_result"
    }
   ],
   "source": [
    "array₁ = Array{Float64}(undef,5,2,2)"
   ]
  },
  {
   "cell_type": "markdown",
   "metadata": {},
   "source": [
    "* __Array literal__\n",
    "\n",
    "Se puede crear un array utilizando corchetes [] y separando los elementos por comas."
   ]
  },
  {
   "cell_type": "code",
   "execution_count": 61,
   "metadata": {},
   "outputs": [
    {
     "data": {
      "text/plain": [
       "2-element Vector{String}:\n",
       " \"hola\"\n",
       " \"mundo\""
      ]
     },
     "execution_count": 61,
     "metadata": {},
     "output_type": "execute_result"
    }
   ],
   "source": [
    "# Crear un array de enteros\n",
    "array_enteros = [1, 2, 3, 4, 5]\n",
    "\n",
    "# Crear un array de cadenas de texto\n",
    "array_cadenas = [\"hola\", \"mundo\"]\n"
   ]
  },
  {
   "cell_type": "markdown",
   "metadata": {},
   "source": [
    "* __Array Vacio__\n",
    "\n",
    "Se puede crear un array vacío y especificar su tipo."
   ]
  },
  {
   "cell_type": "code",
   "execution_count": 62,
   "metadata": {},
   "outputs": [
    {
     "data": {
      "text/plain": [
       "Int64[]"
      ]
     },
     "execution_count": 62,
     "metadata": {},
     "output_type": "execute_result"
    }
   ],
   "source": [
    "# Crear un array vacío de enteros\n",
    "array_vacio = Int64[]\n"
   ]
  },
  {
   "cell_type": "markdown",
   "metadata": {},
   "source": [
    "* __Array con Valores Repetidos__\n",
    "\n",
    "Puedes crear un array con un valor repetido un cierto número de veces usando la función fill."
   ]
  },
  {
   "cell_type": "code",
   "execution_count": 63,
   "metadata": {},
   "outputs": [
    {
     "data": {
      "text/plain": [
       "5-element Vector{Int64}:\n",
       " 0\n",
       " 0\n",
       " 0\n",
       " 0\n",
       " 0"
      ]
     },
     "execution_count": 63,
     "metadata": {},
     "output_type": "execute_result"
    }
   ],
   "source": [
    "# Crear un array de tamaño 5, con todos los elementos igual a 0\n",
    "array_repetidos = fill(0, 5)\n"
   ]
  },
  {
   "cell_type": "markdown",
   "metadata": {},
   "source": [
    "* __Array con un rango__\n",
    "\n",
    "Se puede crear un array que contenga un rango de números."
   ]
  },
  {
   "cell_type": "code",
   "execution_count": 64,
   "metadata": {},
   "outputs": [
    {
     "data": {
      "text/plain": [
       "10-element Vector{Int64}:\n",
       "  1\n",
       "  2\n",
       "  3\n",
       "  4\n",
       "  5\n",
       "  6\n",
       "  7\n",
       "  8\n",
       "  9\n",
       " 10"
      ]
     },
     "execution_count": 64,
     "metadata": {},
     "output_type": "execute_result"
    }
   ],
   "source": [
    "# Crear un array con números del 1 al 10\n",
    "array_rango = collect(1:10)\n"
   ]
  },
  {
   "cell_type": "markdown",
   "metadata": {},
   "source": [
    "* __Array de ceros__\n",
    "Un array de ceros puede ser creado con el método zeros, que admite como argumentos el tipo de datos y luego las dimensiones del array."
   ]
  },
  {
   "cell_type": "code",
   "execution_count": 65,
   "metadata": {},
   "outputs": [
    {
     "data": {
      "text/plain": [
       "4×4 Matrix{Float64}:\n",
       " 0.0  0.0  0.0  0.0\n",
       " 0.0  0.0  0.0  0.0\n",
       " 0.0  0.0  0.0  0.0\n",
       " 0.0  0.0  0.0  0.0"
      ]
     },
     "execution_count": 65,
     "metadata": {},
     "output_type": "execute_result"
    }
   ],
   "source": [
    "array_zeros = zeros(Int64,4)\n",
    "matriz_zeros = zeros(Float64,4,4)"
   ]
  },
  {
   "cell_type": "markdown",
   "metadata": {},
   "source": [
    "__9.2.  Acceder a los elementos de un array__\n",
    "\n",
    "Se accede a los elementos de un array con [] e indicando la posición de elemento"
   ]
  },
  {
   "cell_type": "code",
   "execution_count": 66,
   "metadata": {},
   "outputs": [
    {
     "name": "stdout",
     "output_type": "stream",
     "text": [
      "El primer elemento es: 10\n"
     ]
    }
   ],
   "source": [
    "# Crear un array de enteros\n",
    "array_enteros = [10, 20, 30, 40, 50]\n",
    "\n",
    "# Acceder y mostrar el primer elemento del array\n",
    "primer_elemento = array_enteros[1]\n",
    "println(\"El primer elemento es: \", primer_elemento)  # 10"
   ]
  },
  {
   "cell_type": "markdown",
   "metadata": {},
   "source": [
    "Como puede ser observado, a diferencia de otros lenguajes de programación, Julia tiene indexación base-1, lo que significa que para el primer elemento del array tiene índice 1 no 0."
   ]
  },
  {
   "cell_type": "code",
   "execution_count": 67,
   "metadata": {},
   "outputs": [
    {
     "name": "stdout",
     "output_type": "stream",
     "text": [
      "El tercer elemento es: 30\n",
      "El último elemento es: 50\n",
      "Los elementos del segundo al cuarto son: [20"
     ]
    },
    {
     "name": "stdout",
     "output_type": "stream",
     "text": [
      ", 30, 40]\n",
      "Los elementos en los índices 1, 3 y 5 son: [10, 30, 50]\n"
     ]
    }
   ],
   "source": [
    "# Crear un array de enteros\n",
    "array_enteros = [10, 20, 30, 40, 50]\n",
    "\n",
    "# Acceder y mostrar el tercer elemento del array\n",
    "tercer_elemento = array_enteros[3]\n",
    "println(\"El tercer elemento es: \", tercer_elemento)  # 30\n",
    "\n",
    "# Acceder y mostrar el último elemento del array\n",
    "ultimo_elemento = array_enteros[end]\n",
    "println(\"El último elemento es: \", ultimo_elemento)  # 50\n",
    "\n",
    "# Acceder y mostrar los elementos en un rango de índices (del segundo al cuarto)\n",
    "rango_elementos = array_enteros[2:4]\n",
    "println(\"Los elementos del segundo al cuarto son: \", rango_elementos)  # [20, 30, 40]\n",
    "\n",
    "# Acceder y mostrar elementos usando un array de índices específicos\n",
    "indices_especificos = [1, 3, 5]\n",
    "elementos_especificos = array_enteros[indices_especificos]\n",
    "println(\"Los elementos en los índices 1, 3 y 5 son: \", elementos_especificos)  # [10, 30, 50]\n"
   ]
  },
  {
   "cell_type": "markdown",
   "metadata": {},
   "source": [
    "Otros ejemplos de como acceder a los elementos de un array pueden ser:"
   ]
  },
  {
   "cell_type": "code",
   "execution_count": 68,
   "metadata": {},
   "outputs": [
    {
     "data": {
      "text/plain": [
       "\"Hola 1\""
      ]
     },
     "execution_count": 68,
     "metadata": {},
     "output_type": "execute_result"
    }
   ],
   "source": [
    "array3dim = cat([1 2; 3 4],[\"Hola 1\" \"Hola 2\"; \"Hola 3\" \"Hola 4\"],[5 6; 7 8],dims=3)\n",
    "\n",
    "array3dim[1,1,2] # Hola 1"
   ]
  },
  {
   "cell_type": "markdown",
   "metadata": {},
   "source": [
    "En este ejemplo se puede apreciar como accedemos a un elmento de un array de 3 dimensiones, basicamente indicando la posición con una terna de numeros. Aunque se puede acceder a más de un elemento extrayendo un subarray del primero:"
   ]
  },
  {
   "cell_type": "code",
   "execution_count": 69,
   "metadata": {},
   "outputs": [
    {
     "data": {
      "text/plain": [
       "2×2 Matrix{Any}:\n",
       " \"Hola 1\"  \"Hola 2\"\n",
       " \"Hola 3\"  \"Hola 4\""
      ]
     },
     "execution_count": 69,
     "metadata": {},
     "output_type": "execute_result"
    }
   ],
   "source": [
    "array3dim = cat([1 2; 3 4],[\"Hola 1\" \"Hola 2\"; \"Hola 3\" \"Hola 4\"],[5 6; 7 8],dims=3)\n",
    "\n",
    "array3dim[:,:,2]"
   ]
  },
  {
   "cell_type": "markdown",
   "metadata": {},
   "source": [
    "#### __10. Tuplas__"
   ]
  },
  {
   "cell_type": "markdown",
   "metadata": {},
   "source": [
    "Una tupla es una colección ordenada de tamaño fijo que puede contener elementos de distintos tipos.\n",
    "Generalmente se usan para pasar parámetros o devolver valores de funciones.\n",
    "Se crean escribiendo sus elementos separados por comas entre paréntesis."
   ]
  },
  {
   "cell_type": "markdown",
   "metadata": {},
   "source": [
    "__ADVERTENCIA__: Las tuplas son inmutables, es decir, una vez creadas no pueden cambiarse sus elementos."
   ]
  },
  {
   "cell_type": "markdown",
   "metadata": {},
   "source": [
    "Las tuplas se crean usando las siguiente sintaxis: __nombre = (itemq, item2, ....)__"
   ]
  },
  {
   "cell_type": "code",
   "execution_count": 70,
   "metadata": {},
   "outputs": [
    {
     "name": "stdout",
     "output_type": "stream",
     "text": [
      "()\n",
      "(10, \"Marzo\", 200.23)\n"
     ]
    },
    {
     "data": {
      "text/plain": [
       "Tuple{Int64, String, Float64}"
      ]
     },
     "execution_count": 70,
     "metadata": {},
     "output_type": "execute_result"
    }
   ],
   "source": [
    "# Tupla vacia\n",
    "tp_vacia = ()\n",
    "println(tp_vacia)\n",
    "\n",
    "# tupla con distintos tipos de variables\n",
    "tp = (10,\"Marzo\",200.23)\n",
    "println(tp)\n",
    "\n",
    "typeof(tp_vacia)\n",
    "typeof(tp)"
   ]
  },
  {
   "cell_type": "markdown",
   "metadata": {},
   "source": [
    "__10.1.Tuplas con Nombres__"
   ]
  },
  {
   "cell_type": "markdown",
   "metadata": {},
   "source": [
    "Es posible asignar un nombre a cada uno de los elementos de la tupla. Para ello cada elemento de la tupla con nombre debe escribirse con la sintaxis: <br>\n",
    "\n",
    "__nombre = valor__"
   ]
  },
  {
   "cell_type": "code",
   "execution_count": 71,
   "metadata": {},
   "outputs": [
    {
     "name": "stdout",
     "output_type": "stream",
     "text": [
      "(pais = \"Venezuela\", estado = \"Carabobo\", ciudad = \"Valencia\")\n"
     ]
    },
    {
     "data": {
      "text/plain": [
       "NamedTuple{(:pais, :estado, :ciudad), Tuple{String, String, String}}"
      ]
     },
     "execution_count": 71,
     "metadata": {},
     "output_type": "execute_result"
    }
   ],
   "source": [
    "tp = (pais = \"Venezuela\", estado = \"Carabobo\", ciudad = \"Valencia\")\n",
    "println(tp)\n",
    "typeof(tp)"
   ]
  },
  {
   "cell_type": "markdown",
   "metadata": {},
   "source": [
    "__ADVERTENCIA__: No puede haber dos elementos con el mismo nombre en una tupla.\n",
    "<br><br>\n",
    "La ventaja de usar tuplas con nombres es que podemos acceder a sus elementos por nombre, además de por índice."
   ]
  },
  {
   "cell_type": "markdown",
   "metadata": {},
   "source": [
    "__10.2. Acesso de Elementos de una Tupla__"
   ]
  },
  {
   "cell_type": "markdown",
   "metadata": {},
   "source": [
    "Como las tuplas tienen orden, podemos acceder a sus elementos mediante índices, al igual que con los arrays de una dimensión.\n",
    "\n",
    "* __t[i]__: Devuelve el elemento con íncide __i__ de la tupla __t__. <br>\n",
    "Si la tupla tiene nombres también es posible acceder a sus elementos mediante los nombres.\n",
    "* __t.x__: Devuelve el elemento con nombre __x__ de la tupla __t__."
   ]
  },
  {
   "cell_type": "code",
   "execution_count": 72,
   "metadata": {},
   "outputs": [
    {
     "name": "stdout",
     "output_type": "stream",
     "text": [
      "Valencia\n",
      "Venezuela\n"
     ]
    }
   ],
   "source": [
    "tp = (pais = \"Venezuela\", estado = \"Carabobo\", ciudad = \"Valencia\")\n",
    "\n",
    "println(tp[3]) # Valencia\n",
    "println(tp.pais) # Venezuela"
   ]
  },
  {
   "cell_type": "markdown",
   "metadata": {},
   "source": [
    "__10.3. Asignacion Multiple de tuplas__"
   ]
  },
  {
   "cell_type": "markdown",
   "metadata": {},
   "source": [
    "Es posible asignar los elementos de una tupla a distintas variables en una sola asignación.\n",
    "<br><br>\n",
    "__x, y, ... = t__: Asigna a las variables __x, y__, etc los elementos de la tupla __t__ en orden. Si el número de variables es menor que el tamaño de la tupla, los últimos elementos quedan sin asignar.\n",
    "\n",
    "__x, y... = t__: Asigna el primer elemento de la tupla __t__ a la variable __x__ y la tupla con los elementos restantes a la variable __y__."
   ]
  },
  {
   "cell_type": "code",
   "execution_count": 73,
   "metadata": {},
   "outputs": [
    {
     "name": "stdout",
     "output_type": "stream",
     "text": [
      "Juan\n",
      "2024\n",
      "h\n",
      "12.3\n",
      "Juan\n",
      "(2024, 'h', 12.3)\n"
     ]
    }
   ],
   "source": [
    "tp = (\"Juan\", 2024, 'h', 12.3)\n",
    "\n",
    "# asignamos cuatro variables a la tupla tp\n",
    "n, a, c, d = tp\n",
    "\n",
    "println(n)\n",
    "println(a)\n",
    "println(c)\n",
    "println(d)\n",
    "\n",
    "# asignamos 2 variables a la tupla tp\n",
    "n, acd... = tp\n",
    "\n",
    "println(n)\n",
    "println(acd)\n"
   ]
  },
  {
   "cell_type": "markdown",
   "metadata": {},
   "source": [
    "#### __11. DICCIONARIOS__"
   ]
  },
  {
   "cell_type": "markdown",
   "metadata": {},
   "source": [
    "Un diccionario es una colección asociativa sin orden cuyos elementos son pares formados por una clave y un valor asociado a la clave.\n",
    "Se parecen a las tuplas con nombre, pero, a diferencia de estas, son mutables, es decir, su contenido se puede alterar.\n",
    "<br><br>\n",
    "__Dict(k1 => v1, ...)__: Crea un diccionario con los pares indicados en formato clave => valor"
   ]
  },
  {
   "cell_type": "markdown",
   "metadata": {},
   "source": [
    "__ADVERTENCIA__: En un diccionario no pueden existir dos pares con la misma clave, de modo que si se repite una clave se sobrescribe el par anterior."
   ]
  },
  {
   "cell_type": "markdown",
   "metadata": {},
   "source": [
    "Ejemplos de Diccionarios"
   ]
  },
  {
   "cell_type": "code",
   "execution_count": 74,
   "metadata": {},
   "outputs": [
    {
     "name": "stdout",
     "output_type": "stream",
     "text": [
      "Dict{Any, Any}()\n",
      "Dict(\"cedula1\" => \"30345678\", \"cedula2\" => \"28098321\", \"cedula3\" => \"11567987\")\n"
     ]
    },
    {
     "data": {
      "text/plain": [
       "Dict{String, String}"
      ]
     },
     "execution_count": 74,
     "metadata": {},
     "output_type": "execute_result"
    }
   ],
   "source": [
    "# Diccionario vacio\n",
    "d_vacio = Dict()\n",
    "println(d_vacio)\n",
    "\n",
    "d = Dict(\"cedula1\" => \"30345678\", \"cedula2\" => \"28098321\", \"cedula3\" => \"11567987\")\n",
    "println(d)\n",
    "\n",
    "typeof(d)"
   ]
  },
  {
   "cell_type": "markdown",
   "metadata": {},
   "source": [
    "__11.1. Acceso a los elementos de un Diccionario__"
   ]
  },
  {
   "cell_type": "markdown",
   "metadata": {},
   "source": [
    "Para acceder a los valores de un diccionario se utilizan sus claves asociadas entre corchetes. <br>\n",
    "__d[k]__: Devuelve el valor asociado a la clave __k__ en el diccionario __d__."
   ]
  },
  {
   "cell_type": "markdown",
   "metadata": {},
   "source": [
    "__ADVERTENCIA__: Si la clave no existe en el diccionario se produce un error. <br><br>\n",
    "\n",
    "Para evitar errores es conveniente usar algunas de las siguientes funciones: \n",
    "\n",
    "* __haskey(d,k)__: Devuelve true si la clave __k__ está en diccionario __d__ y false en caso contrario.\n",
    "* __get(d, k, v)__: Devuelve el valor asociado a la clave __k__ en el diccionario __d__ o el valor __v__ si la clave __k__ no existe.\n",
    "* __get!(d, k, v)__: Devuelve el valor asociado a la clave __k__ en el diccionario __d__. Si la clave __k__ no existe en el <br> diccionario __d__ añade el par con la clave __k__ y el valor __v__ y devuelve el valor __v__."
   ]
  },
  {
   "cell_type": "markdown",
   "metadata": {},
   "source": [
    "Ejemplo de acceso a los elementos de un diccionario:"
   ]
  },
  {
   "cell_type": "code",
   "execution_count": 75,
   "metadata": {},
   "outputs": [
    {
     "name": "stdout",
     "output_type": "stream",
     "text": [
      "Dict(\"cedula1\" => \"30345678\", \"cedula2\" => \"28098321\", \"cedula3\" => \"11567987\")\n",
      "28098321\n",
      "11567987\n",
      "30345678\n",
      "Dict(\"cedula1\" => \"30345678\", \"cedula2\" => \"28098321\", \"cedula3\" => \"11567987\", \"cedula10\" => \"30345678\")\n"
     ]
    }
   ],
   "source": [
    "d = Dict(\"cedula1\" => \"30345678\", \"cedula2\" => \"28098321\", \"cedula3\" => \"11567987\")\n",
    "println(d)\n",
    "\n",
    "println(d[\"cedula2\"])  # \"28098321\"\n",
    "\n",
    "#=\n",
    "println(d[\"cedula10\"]) # no existe esta clave\n",
    "\n",
    "como esa clave no existe el interprete va arrojar un error\n",
    "\n",
    "KeyError: key \"cedula10\" not found\n",
    "\n",
    "Stacktrace:\n",
    " [1] getindex(h::Dict{String, String}, key::String)\n",
    "   @ Base .\\dict.jl:498\n",
    " [2] top-level scope\n",
    "   @ In[25]:6\n",
    "\n",
    "=#\n",
    "\n",
    "# get(d,k,v)\n",
    "println(get(d,\"cedula10\",\"11567987\")) # como la clave k no existe, se va a tomar en cuenta el valor de v\n",
    "\n",
    "# get!(d,k,v)\n",
    "println(get!(d,\"cedula10\",\"30345678\")) # como la clave k no existe, se añade el par con la clave k y el valor de v, y se devuelve el valor de v\n",
    "\n",
    "println(d)"
   ]
  },
  {
   "cell_type": "markdown",
   "metadata": {},
   "source": [
    "__11.2. Recorrido de las claves y valores de un diccionario__"
   ]
  },
  {
   "cell_type": "markdown",
   "metadata": {},
   "source": [
    "Las siguientes funciones permiten obtener todas las claves, valores y pares de un diccionario.\n",
    "\n",
    "* __keys(d)__: Devuelve un iterador con las claves del diccionario d.\n",
    "* __values(d)__: Devuelve un iterador con los valores del diccionario d.\n",
    "<br>\n",
    "\n",
    "Estos iteradores permiten recorrer fácilmente los pares de un diccionario."
   ]
  },
  {
   "cell_type": "code",
   "execution_count": 76,
   "metadata": {},
   "outputs": [
    {
     "name": "stdout",
     "output_type": "stream",
     "text": [
      "[\"cedula1\", \"cedula2\", \"cedula3\"]\n",
      "[\"30345678\", \"28098321\", \"11567987\"]\n",
      "\n",
      "cedula1 = 30345678\n",
      "cedula2 = 28098321\n",
      "cedula3 = 11567987\n",
      "\n",
      "cedula1 = 30345678\n",
      "cedula2 = 28098321\n",
      "cedula3 = 11567987\n"
     ]
    }
   ],
   "source": [
    "d = Dict(\"cedula1\" => \"30345678\", \"cedula2\" => \"28098321\", \"cedula3\" => \"11567987\")\n",
    "\n",
    "println(keys(d))\n",
    "println(values(d))\n",
    "\n",
    "keys(d)\n",
    "values(d)\n",
    "\n",
    "println(\"\")\n",
    "\n",
    "# ciclo for para recorrer las claves del diccionario\n",
    "\n",
    "for k = keys(d)\n",
    "    println(\"$k = $(d[k])\")\n",
    "end\n",
    "\n",
    "println(\"\")\n",
    "# ciclo for para recorrer clave, valor del diccionario\n",
    "\n",
    "for (k, v) = d\n",
    "    println(\"$k = $v\")\n",
    "end"
   ]
  },
  {
   "cell_type": "markdown",
   "metadata": {},
   "source": [
    "__11.3. Añadir elementos a un diccionario__"
   ]
  },
  {
   "cell_type": "markdown",
   "metadata": {},
   "source": [
    "* __d[k] = v__: Añade el par con clave __k__ y valor __v__ al diccionario __d__. Si la clave __k__ ya existía en el diccionario __d__, cambia su valor asociado por __v__."
   ]
  },
  {
   "cell_type": "code",
   "execution_count": 77,
   "metadata": {},
   "outputs": [
    {
     "name": "stdout",
     "output_type": "stream",
     "text": [
      "Dict(\"cedula4\" => \"15650812\", \"cedula1\" => \"33001900\", \"cedula2\" => \"28098321\", \"cedula3\" => \"11567987\")\n"
     ]
    }
   ],
   "source": [
    "d = Dict(\"cedula1\" => \"30345678\", \"cedula2\" => \"28098321\", \"cedula3\" => \"11567987\")\n",
    "\n",
    "d[\"cedula4\"] = \"15650812\" # este va agregar un par de clave, valor\n",
    "d[\"cedula1\"] = \"33001900\" # este va a modificar el valor que se encuentra en la clave \"cedula1\"\n",
    "\n",
    "println(d)"
   ]
  },
  {
   "cell_type": "markdown",
   "metadata": {},
   "source": [
    "__11.4. Eliminar elementos de un diccionario__"
   ]
  },
  {
   "cell_type": "markdown",
   "metadata": {},
   "source": [
    "* __delete!(d, k)__: Elimina el par cuya clave es __k__ del diccionario __d__."
   ]
  },
  {
   "cell_type": "code",
   "execution_count": 78,
   "metadata": {},
   "outputs": [
    {
     "name": "stdout",
     "output_type": "stream",
     "text": [
      "Dict(\"cedula1\" => \"30345678\", \"cedula3\" => \"11567987\")\n"
     ]
    }
   ],
   "source": [
    "d = Dict(\"cedula1\" => \"30345678\", \"cedula2\" => \"28098321\", \"cedula3\" => \"11567987\")\n",
    "\n",
    "delete!(d,\"cedula2\") # elimina del diccionario el par asociado a la clave que se le pasa como argumento a delete\n",
    "\n",
    "println(d)"
   ]
  },
  {
   "cell_type": "markdown",
   "metadata": {},
   "source": [
    "####  __12. Excepciones__\n",
    "\n",
    "Julia permite el manejo de excepciones mediante el uso de un bloque try-catch. El bloque de código que posiblemente puede generar una excepción se coloca en el bloque try y el bloque catch maneja la excepción generada. La excepción se propaga a través de la pila de llamadas hasta que se encuentra un bloque try-catch"
   ]
  },
  {
   "cell_type": "code",
   "execution_count": 79,
   "metadata": {},
   "outputs": [
    {
     "name": "stdout",
     "output_type": "stream",
     "text": [
      "Antes de la Excepción\n",
      "No se puede encontrar la raíz cuadrada de números negativos\n",
      "Después de la Excepción\n"
     ]
    }
   ],
   "source": [
    "# Imprimir un mensaje antes de la excepción\n",
    "println(\"Antes de la Excepción\")\n",
    "\n",
    "# Intentar calcular la raíz cuadrada de un número negativo\n",
    "try\n",
    "    sqrt(-1)  # Esto lanzará una excepción porque no se puede calcular la raíz cuadrada de un número negativo\n",
    "catch\n",
    "    # Capturar la excepción y manejarla imprimiendo un mensaje\n",
    "    println(\"No se puede encontrar la raíz cuadrada de números negativos\")\n",
    "end\n",
    "\n",
    "# Imprimir un mensaje después de manejar la excepción\n",
    "println(\"Después de la Excepción\")\n"
   ]
  },
  {
   "cell_type": "markdown",
   "metadata": {},
   "source": [
    "\n",
    "El código intenta calcular la raíz cuadrada de un número negativo (sqrt(-1)), lo cual lanza una excepción porque no es posible para números reales. Antes de este intento, imprime \"Antes de la Excepción\". Al producirse la excepción, es capturada por el bloque catch, que imprime \"No se puede encontrar la raíz cuadrada de números negativos\". Finalmente, después de manejar la excepción, imprime \"Después de la Excepción\", demostrando que el flujo del programa continúa normalmente después de la captura y manejo de la excepción."
   ]
  },
  {
   "cell_type": "markdown",
   "metadata": {},
   "source": [
    "Algunas de las Principales excepciones en Julia son:\n",
    "\n",
    "- __ErrorException__: La excepción genérica para errores.\n",
    "- __ArgumentError__: Indica que un argumento pasado a una función es inválido.\n",
    "- __DivideError__: Se lanza cuando se intenta dividir por cero.\n",
    "- __BoundsError__: Se lanza cuando se intenta acceder a un índice fuera del rango de un array.\n",
    "- __TypeError__: Indica que el tipo de un argumento es incorrecto.\n",
    "- __MethodError__: Se lanza cuando no se encuentra un método adecuado para una llamada de función.\n",
    "- __KeyError__: Indica que una clave no se encuentra en una colección.\n",
    "\n",
    "Un ejemplo completo podría ser:\n",
    "\n"
   ]
  },
  {
   "cell_type": "code",
   "execution_count": 80,
   "metadata": {},
   "outputs": [
    {
     "name": "stdout",
     "output_type": "stream",
     "text": [
      "Otro error: MethodError(DivideError, (\"No se puede dividir por cero\",), 0x0000000000007412)\n",
      "Error de índice: BoundsError(\"Índice fuera de rango\", #undef)\n"
     ]
    },
    {
     "data": {
      "text/plain": [
       "1.0"
      ]
     },
     "execution_count": 80,
     "metadata": {},
     "output_type": "execute_result"
    }
   ],
   "source": [
    "# Definición de una función que lanza varias excepciones\n",
    "function calcular(a, b, c)\n",
    "    try\n",
    "        if b == 0\n",
    "            throw(DivideError(\"No se puede dividir por cero\"))\n",
    "        end\n",
    "        if c > length(a)\n",
    "            throw(BoundsError(\"Índice fuera de rango\"))\n",
    "        end\n",
    "        resultado = a[c] / b\n",
    "        return resultado\n",
    "    catch e\n",
    "        if isa(e, DivideError)\n",
    "            println(\"Error de división: \", e)\n",
    "        elseif isa(e, BoundsError)\n",
    "            println(\"Error de índice: \", e)\n",
    "        else\n",
    "            println(\"Otro error: \", e)\n",
    "        end\n",
    "    end\n",
    "end\n",
    "\n",
    "# Uso de la función con manejo de excepciones\n",
    "a = [1, 2, 3]\n",
    "calcular(a, 0, 2)  # Esto lanza un DivideError\n",
    "calcular(a, 2, 4)  # Esto lanza un BoundsError\n",
    "calcular(a, 2, 2)  # Esto funciona correctamente\n"
   ]
  }
 ],
 "metadata": {
  "kernelspec": {
   "display_name": "Julia 1.6.7",
   "language": "julia",
   "name": "julia-1.6"
  },
  "language_info": {
   "file_extension": ".jl",
   "mimetype": "application/julia",
   "name": "julia",
   "version": "1.6.7"
  }
 },
 "nbformat": 4,
 "nbformat_minor": 2
}
