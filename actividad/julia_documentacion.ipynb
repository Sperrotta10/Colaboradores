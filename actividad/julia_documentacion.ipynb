{
 "cells": [
  {
   "cell_type": "markdown",
   "metadata": {},
   "source": [
    "1.¿Qué es?\n"
   ]
  },
  {
   "cell_type": "markdown",
   "metadata": {},
   "source": [
    "Es un lenguaje de programación gratuito y de código abierto para computación científica, técnica y genérica de alto rendimiento y alto nivel diseñado para realizar análisis numérico. Fue creado en 2009 por Alan Edelman, Stefan Karpinski, Jeff Bezanson y Viral Shah y se ha vuelto popular por su sintaxis expresiva y sus paquetes de Machine Learning de alta velocidad."
   ]
  },
  {
   "cell_type": "markdown",
   "metadata": {},
   "source": [
    "2.¿Cómo instalar?"
   ]
  },
  {
   "cell_type": "markdown",
   "metadata": {},
   "source": [
    "2.1.Instalar para Windows"
   ]
  },
  {
   "cell_type": "markdown",
   "metadata": {},
   "source": [
    "* paso1: Ir al sitio web de julia \"https://julialang.org/downloads/\"\n",
    "* paso2: Instalar la version de julia mas estable (1.10.3v)\n",
    "* paso3: Ejecute el instalador y elija la carpeta predeterminada o escoja la ruta donde quiere que se instale"
   ]
  },
  {
   "cell_type": "markdown",
   "metadata": {},
   "source": [
    "2.2.Instalar para Linux"
   ]
  },
  {
   "cell_type": "markdown",
   "metadata": {},
   "source": [
    "* paso1: Ir al sitio web de julia \"https://julialang.org/downloads/\"\n",
    "* paso2: Instalar la version de julia mas estable (1.10.3v)\n",
    "* paso3: Extrae el archivo descargado con el comando (tar zxvf julia-1.10.3-linux-x86_64.tar.gz)\n",
    "* paso4: Añada Julia a tu variable de entorno PATH editando el archivo (~/.bashrc) y añadiendo la línea (export PATH=\"$PATH:/home/tu_usuario/julia-1.10.3/bin\")\n",
    "* paso5: Ejecuta source (~/.bashrc) para que los cambios tengan efecto"
   ]
  },
  {
   "cell_type": "markdown",
   "metadata": {},
   "source": [
    "2.3.Instalar para MacOs"
   ]
  },
  {
   "cell_type": "markdown",
   "metadata": {},
   "source": [
    "* paso1: abra la terminal\n",
    "* paso2: Ejecuta el comando (curl -fsSL https://install.julialang.org | sh)\n",
    "* paso3: Una vez instalado, Julia estará disponible a través de la interfaz de línea de comandos"
   ]
  },
  {
   "cell_type": "markdown",
   "metadata": {},
   "source": [
    "Opcional:\n",
    "\n",
    "si quiere trabajar con Jupyter notebook\n",
    "\n",
    "* paso1: abra la terminal de julia\n",
    "* paso2: escriba un \"]\" para entrar al administrador de paquetes\n",
    "* paso3: escriba \"add IJulia\" para instalar el paquete de IJulia \"este paquete es para instalar el kernel de julia y poder \n",
    "trabajar con jupyter notebook\""
   ]
  },
  {
   "cell_type": "markdown",
   "metadata": {},
   "source": [
    "3.PAQUETES"
   ]
  },
  {
   "cell_type": "markdown",
   "metadata": {},
   "source": [
    "En julia es posible aumentar su capacidad utilizando paquetes (ya sea con los que vienen en la instalacion base como con externos).\n",
    "Los paquetes son invocados (despues de haber sido instalados) usando la sintaxis:"
   ]
  },
  {
   "cell_type": "markdown",
   "metadata": {},
   "source": [
    "__using nombre_paquete__"
   ]
  },
  {
   "cell_type": "markdown",
   "metadata": {},
   "source": [
    "Para administrar los paquetes en julia se usa el paquete (pkg). La sintaxis para instalar un paquete es:"
   ]
  },
  {
   "cell_type": "markdown",
   "metadata": {},
   "source": [
    "* __using Pkg__\n",
    "* __Pkg.add(\"nombre_del_paquete\")__"
   ]
  },
  {
   "cell_type": "markdown",
   "metadata": {},
   "source": [
    "Algo importante es que el ordenador debe de estar conectado a internet para descargar los archivos binarios del paquete a instalar. Los\n",
    "archivos descargados son guardados en la carpeta: ~/.julia/environments/"
   ]
  },
  {
   "cell_type": "markdown",
   "metadata": {},
   "source": [
    "3.1.Comandos Utiles de Julia"
   ]
  },
  {
   "cell_type": "markdown",
   "metadata": {},
   "source": [
    "* __Pkg.rm(\"nombre_del_paquete\")__ --> Elimina un paquete\n",
    "* __Pkg.build(\"nombre_del_paquete\")__ --> Reconstruye un paquete desde sus archivos binarios\n",
    "* __Pkg.status()__ --> Provee una lista de los paquetes instalados\n",
    "* __Pkg.update()__ --> Actualiza los paquetes instalados"
   ]
  },
  {
   "cell_type": "markdown",
   "metadata": {},
   "source": [
    "4.COMENTARIOS  \n",
    "\n",
    "Comentar o dejar documentación en diferentes partes de un código es muy útil para explicar en detalle que es exactamente qué cálculos se están realizando. Esto es particularmente útil cuando el código es compartido con otra persona o con uno mismo en el futuro.\n"
   ]
  },
  {
   "cell_type": "markdown",
   "metadata": {},
   "source": [
    "4.1.Tipos\n",
    "\n",
    "4.1.1.Comentarios de una sola línea: inician con # \n",
    "(Todo lo que precede a este símbolo será parte del comentario.)"
   ]
  },
  {
   "cell_type": "code",
   "execution_count": 1,
   "metadata": {},
   "outputs": [],
   "source": [
    "#Este es un comentario de una linea en Julia\n",
    "#Este es otro comentario"
   ]
  },
  {
   "cell_type": "markdown",
   "metadata": {},
   "source": [
    "4.1.2.Comentarios de bloque: inician con #= y cierran con =#\n",
    "Estos comentarios son útiles para escribir documentación detallada que requiera de varias líneas."
   ]
  },
  {
   "cell_type": "code",
   "execution_count": 2,
   "metadata": {},
   "outputs": [],
   "source": [
    "#= \n",
    "    esto\n",
    "    es un\n",
    "    coemntario de bloque\n",
    " =#"
   ]
  },
  {
   "cell_type": "markdown",
   "metadata": {},
   "source": [
    "5.VARIABLES"
   ]
  },
  {
   "cell_type": "markdown",
   "metadata": {},
   "source": [
    "Una variable es un elemento de datos con nombre que puede almacenar diferentes tipos de datos durante la ejecución de un programa. Las variables son fundamentales para el desarrollo de software y la creación de aplicaciones eficientes, ya que permiten a los desarrolladores manipular e interactuar con la información de manera dinámica."
   ]
  },
  {
   "cell_type": "markdown",
   "metadata": {},
   "source": [
    "En Julia para declarar variables: nombre_de_la_varaible = valor\n",
    "\n",
    "El valor asignado corresponde a un tipo de dato"
   ]
  },
  {
   "cell_type": "markdown",
   "metadata": {},
   "source": [
    "__Importante:__\n",
    "\n",
    "* Las variables deben tener nombres significativos\n",
    "* No deben empezar con numeros\n",
    "* No deben contener caracteres como @\n",
    "* No pueden ser palabras reservadas"
   ]
  },
  {
   "cell_type": "markdown",
   "metadata": {},
   "source": [
    "5.1.Tipo de Variables\n",
    "\n",
    "* 5.1.1.Int (entero)\n",
    "* 5.1.2.Float (decimal)\n",
    "* 5.1.3.String (cadena)\n",
    "* 5.1.4.Char (caracter)\n",
    "* 5.1.5.Booleano (logico)"
   ]
  },
  {
   "cell_type": "markdown",
   "metadata": {},
   "source": [
    "5.1.1.Int (entero)"
   ]
  },
  {
   "cell_type": "code",
   "execution_count": 10,
   "metadata": {},
   "outputs": [
    {
     "data": {
      "text/plain": [
       "Int64"
      ]
     },
     "execution_count": 10,
     "metadata": {},
     "output_type": "execute_result"
    }
   ],
   "source": [
    "# 64-bit system\n",
    "numero = 10\n",
    "typeof(numero)"
   ]
  },
  {
   "cell_type": "markdown",
   "metadata": {},
   "source": [
    "5.1.2.Float (decimal)"
   ]
  },
  {
   "cell_type": "code",
   "execution_count": 11,
   "metadata": {},
   "outputs": [
    {
     "data": {
      "text/plain": [
       "Float64"
      ]
     },
     "execution_count": 11,
     "metadata": {},
     "output_type": "execute_result"
    }
   ],
   "source": [
    "# 64-bit system\n",
    "numero = 6.23\n",
    "typeof(numero)"
   ]
  },
  {
   "cell_type": "markdown",
   "metadata": {},
   "source": [
    "5.1.3.String (cadena)"
   ]
  },
  {
   "cell_type": "code",
   "execution_count": 4,
   "metadata": {},
   "outputs": [
    {
     "data": {
      "text/plain": [
       "String"
      ]
     },
     "execution_count": 4,
     "metadata": {},
     "output_type": "execute_result"
    }
   ],
   "source": [
    "# Cadena de caracteres\n",
    "nombre = \"Luis Carlos\"\n",
    "typeof(nombre)"
   ]
  },
  {
   "cell_type": "markdown",
   "metadata": {},
   "source": [
    "5.1.4.Char (caracter)"
   ]
  },
  {
   "cell_type": "code",
   "execution_count": 12,
   "metadata": {},
   "outputs": [
    {
     "data": {
      "text/plain": [
       "Char"
      ]
     },
     "execution_count": 12,
     "metadata": {},
     "output_type": "execute_result"
    }
   ],
   "source": [
    "# un caracter\n",
    "character = 'a'\n",
    "typeof(character)"
   ]
  },
  {
   "cell_type": "markdown",
   "metadata": {},
   "source": [
    "5.1.5.Booleano (logico)"
   ]
  },
  {
   "cell_type": "code",
   "execution_count": 1,
   "metadata": {},
   "outputs": [
    {
     "data": {
      "text/plain": [
       "Bool"
      ]
     },
     "execution_count": 1,
     "metadata": {},
     "output_type": "execute_result"
    }
   ],
   "source": [
    "# una variable logica verdadera\n",
    "logic1 = true\n",
    "typeof(logic1)\n",
    "\n",
    "# una variable logica falsa\n",
    "logic2 = false\n",
    "typeof(logic2)"
   ]
  },
  {
   "cell_type": "markdown",
   "metadata": {},
   "source": [
    "5.2.Variables Globales\n",
    "\n",
    "En Julia, las variables globales se definen en el ámbito global y pueden ser accedidas desde cualquier parte del código."
   ]
  },
  {
   "cell_type": "markdown",
   "metadata": {},
   "source": [
    "5.2.1.Declaración de variables globales:\n",
    "\n",
    " La palabra clave 'global' se utiliza para acceder a una variable desde una función o bloque de código; esta se agrega al principio de la linea de codigo donde se quiere declarar la variable global, y posteriormente se agrega el nombre de la variable, cabe mencionar que el valor de la variable se puede agregar después de la declaración global o cuando se realice la misma."
   ]
  },
  {
   "cell_type": "code",
   "execution_count": 3,
   "metadata": {},
   "outputs": [
    {
     "data": {
      "text/plain": [
       "56"
      ]
     },
     "execution_count": 3,
     "metadata": {},
     "output_type": "execute_result"
    }
   ],
   "source": [
    "# DECLARACION DE VARIABLE GLOBAL (Ejemplo)\n",
    "global varible_global = 56"
   ]
  },
  {
   "cell_type": "markdown",
   "metadata": {},
   "source": [
    "Nota: Las variables globales pueden cambiar de tipo y valor en cualquier momento (debido a que Julia es un lenguaje multihilo). Pero se recomienda utilizar variables locales en lugar de globales para mantener un código más limpio y eficiente, ya que se dificulta el seguimiento del código y puede afectar el rendimiento."
   ]
  },
  {
   "cell_type": "markdown",
   "metadata": {},
   "source": [
    "\n",
    "7.Operaciones Matemáticas Basicas\n",
    "    \n",
    "    Julia permite hacer las siguientes operaciones:\n",
    "    7.1.Suma (+)\n",
    "    7.2.Resta (-)\n",
    "    7.3.Multiplicación (*)\n",
    "    7.4.División (/)\n",
    "    7.5.Potencia (^)\n",
    "    7.6.Módulo (%)"
   ]
  },
  {
   "cell_type": "markdown",
   "metadata": {},
   "source": [
    "7.1.Suma (+)"
   ]
  },
  {
   "cell_type": "code",
   "execution_count": 4,
   "metadata": {},
   "outputs": [
    {
     "data": {
      "text/plain": [
       "8"
      ]
     },
     "execution_count": 4,
     "metadata": {},
     "output_type": "execute_result"
    }
   ],
   "source": [
    "#Variables\n",
    "x=3 \n",
    "y=5\n",
    "#operacion de suma\n",
    "x+y \n",
    "#output : 8"
   ]
  },
  {
   "cell_type": "markdown",
   "metadata": {},
   "source": [
    "7.2.Resta (-)"
   ]
  },
  {
   "cell_type": "code",
   "execution_count": 5,
   "metadata": {},
   "outputs": [
    {
     "data": {
      "text/plain": [
       "-2"
      ]
     },
     "execution_count": 5,
     "metadata": {},
     "output_type": "execute_result"
    }
   ],
   "source": [
    "#Variables\n",
    "y=5\n",
    "#operacion de resta\n",
    "x-y \n",
    "#output : -2"
   ]
  },
  {
   "cell_type": "markdown",
   "metadata": {},
   "source": [
    "7.3.Multiplicación (*)"
   ]
  },
  {
   "cell_type": "code",
   "execution_count": 6,
   "metadata": {},
   "outputs": [
    {
     "data": {
      "text/plain": [
       "15"
      ]
     },
     "execution_count": 6,
     "metadata": {},
     "output_type": "execute_result"
    }
   ],
   "source": [
    "#Variables\n",
    "x=3 \n",
    "y=5\n",
    "#operacion de multiplicación\n",
    "x*y \n",
    "#output : 15"
   ]
  },
  {
   "cell_type": "markdown",
   "metadata": {},
   "source": [
    "7.4.División (/)"
   ]
  },
  {
   "cell_type": "code",
   "execution_count": 7,
   "metadata": {},
   "outputs": [
    {
     "data": {
      "text/plain": [
       "5.0"
      ]
     },
     "execution_count": 7,
     "metadata": {},
     "output_type": "execute_result"
    }
   ],
   "source": [
    "#Variables \n",
    "x=25 \n",
    "y=5\n",
    "#operacion de división\n",
    "x/y \n",
    "#output : 5.0"
   ]
  },
  {
   "cell_type": "markdown",
   "metadata": {},
   "source": [
    "7.5.Potencia (^)"
   ]
  },
  {
   "cell_type": "code",
   "execution_count": 8,
   "metadata": {},
   "outputs": [
    {
     "data": {
      "text/plain": [
       "9"
      ]
     },
     "execution_count": 8,
     "metadata": {},
     "output_type": "execute_result"
    }
   ],
   "source": [
    "#Variables \n",
    "x=3\n",
    "y=2\n",
    "#operacion de potencia\n",
    "x^y \n",
    "#output : 9"
   ]
  },
  {
   "cell_type": "markdown",
   "metadata": {},
   "source": [
    "7.6.Módulo (%)"
   ]
  },
  {
   "cell_type": "code",
   "execution_count": 9,
   "metadata": {},
   "outputs": [
    {
     "data": {
      "text/plain": [
       "1"
      ]
     },
     "execution_count": 9,
     "metadata": {},
     "output_type": "execute_result"
    }
   ],
   "source": [
    "#Variables \n",
    "x=3\n",
    "y=2\n",
    "#operacion de módulo\n",
    "x%y #output : 1 "
   ]
  },
  {
   "cell_type": "markdown",
   "metadata": {},
   "source": [
    "8. Condicionales\n",
    "\n",
    "Los condicionales se utilizan para controlar el flujo del programa, ejecutando bloques de código diferentes según distintas condiciones.\n",
    "\n",
    "La sintaxis básica para los condicionales en Julia es la siguiente:\n",
    "\n",
    "    if condicion\n",
    "        # Bloque de código que se ejecuta si la condición es verdadera\n",
    "    elseif otra_condicion\n",
    "        # Bloque de código que se ejecuta si la primera condición es falsa y otra_condicion es verdadera\n",
    "    else\n",
    "        # Bloque de código que se ejecuta si ninguna de las condiciones anteriores es verdadera\n",
    "    end\n",
    "\n",
    "Ya sabiendo la estructura y como se usan los condicionales. vamos a hablar de los operadores lógicos. Estos operadores son fundamentales porque son los que utilizamos para realizar comparaciones y evaluar las condiciones en nuestros programas.\n"
   ]
  },
  {
   "cell_type": "markdown",
   "metadata": {},
   "source": [
    "8. 1 Operadores:\n",
    "\n",
    "\n",
    "Los operadores lógicos nos permiten establecer reglas más complejas y precisas dentro de los condicionales, ayudándonos a tomar decisiones basadas en múltiples criterios. En Julia, existen varios tipos de operadores lógicos que podemos emplear para este propósito, y a continuación, describiremos los más comunes y su uso."
   ]
  },
  {
   "cell_type": "markdown",
   "metadata": {},
   "source": [
    "8. 2 Operadores de comparación\n",
    "\n",
    "Estos operadores se utilizan para comparar valores numéricos, de texto o de cualquier otro tipo compatible. Los operadores de comparación más comunes son:"
   ]
  },
  {
   "cell_type": "code",
   "execution_count": 14,
   "metadata": {},
   "outputs": [
    {
     "name": "stdout",
     "output_type": "stream",
     "text": [
      "3 < 5: true\n",
      "5 > 3: true\n",
      "3 <= 3: true\n",
      "5 >= 3: true\n",
      "3 == 3: true\n",
      "3 != 5: true\n"
     ]
    }
   ],
   "source": [
    "# Operador < (menor que): Verifica si el valor a la izquierda es menor que el valor a la derecha\n",
    "println(\"3 < 5: \", 3 < 5)  # true\n",
    "\n",
    "# Operador > (mayor que): Verifica si el valor a la izquierda es mayor que el valor a la derecha\n",
    "println(\"5 > 3: \", 5 > 3)  # true\n",
    "\n",
    "# Operador <= (menor o igual que): Verifica si el valor a la izquierda es menor o igual que el valor a la derecha.\n",
    "println(\"3 <= 3: \", 3 <= 3)  # true\n",
    "\n",
    "# Operador >= (mayor o igual que): Verifica si el valor a la izquierda es mayor o igual que el valor a la derecha.\n",
    "println(\"5 >= 3: \", 5 >= 3)  # true\n",
    "\n",
    "# Operador == (igual a): Verifica si los dos valores son iguales.\n",
    "println(\"3 == 3: \", 3 == 3)  # true\n",
    "\n",
    "# Operador != (no es igual a): Verifica si los dos valores no son iguales\n",
    "println(\"3 != 5: \", 3 != 5)  # true"
   ]
  },
  {
   "cell_type": "markdown",
   "metadata": {},
   "source": [
    "8. 3 Operadores Lógicos:\n",
    "\n",
    "Además de los operadores de comparación, también tenemos operadores lógicos que nos permiten combinar varias condiciones:"
   ]
  },
  {
   "cell_type": "code",
   "execution_count": 18,
   "metadata": {},
   "outputs": [
    {
     "name": "stdout",
     "output_type": "stream",
     "text": [
      "true | false: true\n",
      "false | false: false\n",
      "true || false: true\n",
      "false || true: true\n",
      "true & true: true\n",
      "true & false: false\n",
      "true && true: true\n",
      "false && true: false\n",
      "!true: false\n",
      "!false: true\n"
     ]
    }
   ],
   "source": [
    "# Operador | (OR): Devuelve true si al menos una de las condiciones es verdadera\n",
    "println(\"true | false: \", true | false)  # true\n",
    "println(\"false | false: \", false | false)  # true\n",
    "\n",
    "# Operador || (OR corto circuito): Devuelve true si al menos una de las condiciones es verdadera; no evalúa la segunda condición si la primera ya es verdadera.\n",
    "println(\"true || false: \", true || false)  # true\n",
    "println(\"false || true: \", false || true)  # true\n",
    "\n",
    "# Operador & (AND): Devuelve true si todas las condiciones son verdaderas\n",
    "println(\"true & true: \", true & true)  # true\n",
    "println(\"true & false: \", true & false) # false\n",
    "\n",
    "# Operador && (AND corto circuito): Devuelve true si todas las condiciones son verdaderas; no evalúa la segunda condición si la primera es falsa.\n",
    "println(\"true && true: \", true && true)  # true\n",
    "println(\"false && true: \", false && true)  # false\n",
    "\n",
    "# Operador ! (NOT): Invierte el valor de una condición, cambiando true a false y viceversa\n",
    "println(\"!true: \", !true)  # false\n",
    "println(\"!false: \", !false)  # true"
   ]
  },
  {
   "cell_type": "markdown",
   "metadata": {},
   "source": [
    "Ahora que ya vimos como son los operadores y como se utilizan, podemos plantear un ejemplo práctico como puede ser:"
   ]
  },
  {
   "cell_type": "code",
   "execution_count": 4,
   "metadata": {},
   "outputs": [
    {
     "name": "stdout",
     "output_type": "stream",
     "text": [
      "Adulto\n"
     ]
    }
   ],
   "source": [
    "# Definimos la variable de edad con la que vamos a trabajar y comparar\n",
    "edad = 25\n",
    "\n",
    "# Evaluamos la condición para determinar la categoría de edad y ejecutamos el bloque de código correspondiente\n",
    "\n",
    "# Si la edad es menor que 13, imprimimos \"Niño\"\n",
    "if edad < 13\n",
    "    println(\"Niño\")\n",
    "# Si la edad es mayor o igual a 13 y menor o igual a 19, imprimimos \"Adolescente\"\n",
    "elseif edad >= 13 && edad <= 19\n",
    "    println(\"Adolescente\")\n",
    "# Si la edad es mayor o igual a 20 y menor o igual a 64, imprimimos \"Adulto\"\n",
    "elseif edad >= 20 && edad <= 64\n",
    "    println(\"Adulto\")\n",
    "# Si ninguna de las condiciones anteriores se cumple, significa que la edad es mayor o igual a 65, por lo tanto, imprimimos \"Anciano\"\n",
    "else\n",
    "    println(\"Anciano\")\n",
    "end\n",
    "\n"
   ]
  },
  {
   "cell_type": "markdown",
   "metadata": {},
   "source": [
    "9. Ciclos (Loops)\n",
    "\n",
    "Los ciclos o Loops son bucles que sirven para realizar operaciones de manera repetida. En Julia existen dos tipos de Loops:"
   ]
  },
  {
   "cell_type": "markdown",
   "metadata": {},
   "source": [
    "9. 1 Loop for: Realiza la misma acción un número determinado de veces. Su sintaxis es como sigue:\n",
    "\n",
    "for expresión_iterable\n",
    "\n",
    "        Comando 1 \n",
    "        Comando 2\n",
    "        Comando 3\n",
    "        ...\n",
    "\n",
    "    end\n",
    "\n",
    "Un ejemplo práctico podría ser:"
   ]
  },
  {
   "cell_type": "code",
   "execution_count": 23,
   "metadata": {},
   "outputs": [
    {
     "name": "stdout",
     "output_type": "stream",
     "text": [
      "i: 1 suma parcial: 1\n",
      "i: 2 suma parcial: 3\n",
      "i: 3 suma parcial: 6\n",
      "i: 4 suma parcial: 10\n",
      "i: 5 suma parcial: 15\n",
      "i: 6 suma parcial: 21\n",
      "i: 7 suma parcial: 28\n",
      "i: 8 suma parcial: 36\n",
      "i: 9 suma parcial: 45\n",
      "i: 10 suma parcial: 55\n",
      "La suma total es: 55\n"
     ]
    }
   ],
   "source": [
    "# Inicializamos una variable para almacenar la suma\n",
    "suma = 0\n",
    "\n",
    "# Ciclo for que itera sobre un rango de números del 1 al 10, que \"i\" empieza en 1 y termina en 10\n",
    "for i in 1:10\n",
    "    # Añadimos el valor de i a la suma\n",
    "    suma += i\n",
    "    # Imprimimos el valor actual de i y la suma parcial\n",
    "    println(\"i: \", i, \" suma parcial: \", suma)\n",
    "end\n",
    "\n",
    "# Imprimimos la suma total después de completar el ciclo\n",
    "println(\"La suma total es: \", suma)\n"
   ]
  },
  {
   "cell_type": "markdown",
   "metadata": {},
   "source": [
    "9. 2 Loop While: Realiza la misma acción hasta que una condición se cumpla. Su sintaxis es como sigue:\n",
    "\n",
    "while Condición\n",
    "\n",
    "    Comando 1\n",
    "    Comando 2\n",
    "    Comando3\n",
    "    ...\n",
    "end\n",
    "\n",
    "un ejemplo práctico podría ser:"
   ]
  },
  {
   "cell_type": "code",
   "execution_count": 27,
   "metadata": {},
   "outputs": [
    {
     "name": "stdout",
     "output_type": "stream",
     "text": [
      "El número es: 1\n",
      "El número es: 2\n",
      "El número es: 3\n",
      "El número es: 4\n"
     ]
    }
   ],
   "source": [
    "numero_mayor = 5\n",
    "numero_menor = 1\n",
    "\n",
    "# Iniciamos un ciclo while que se ejecutará mientras numero_mayor sea mayor que numero_menor\n",
    "while numero_mayor > numero_menor\n",
    "    # Imprimimos el valor actual del numero menor\n",
    "    println(\"El número es: \", numero_menor)\n",
    "    \n",
    "    # Incrementamos el valor de numero_menor en 1\n",
    "    numero_menor += 1\n",
    "end"
   ]
  },
  {
   "cell_type": "markdown",
   "metadata": {},
   "source": [
    "10. Arrays\n",
    "Los arrays son un tipo de estructura que contiene datos relacionados, con ellos pueden ser representados vectores y matrices.\n",
    "\n",
    "En Julia los Arrays son listas, que pueden contener más de un tipo de dato, según este sea creado o inicializado, además implementa métodos para incrementar y eliminar elementos. También, a diferencia de otras estructuras los array pueden tener datos duplicados."
   ]
  },
  {
   "cell_type": "markdown",
   "metadata": {},
   "source": [
    "10. 1  Inicialización de un array\n",
    "\n",
    "El array puede ser inicializado de diversas maneras, las cuales son:"
   ]
  },
  {
   "cell_type": "markdown",
   "metadata": {},
   "source": [
    "- Usando el constructor explícito"
   ]
  },
  {
   "cell_type": "code",
   "execution_count": 29,
   "metadata": {},
   "outputs": [
    {
     "data": {
      "text/plain": [
       "5×2×2 Array{Float64, 3}:\n",
       "[:, :, 1] =\n",
       " 7.40745e-312  7.40745e-312\n",
       " 7.40745e-312  7.40745e-312\n",
       " 7.40745e-312  7.40745e-312\n",
       " 7.40758e-312  7.40745e-312\n",
       " 7.40745e-312  7.40745e-312\n",
       "\n",
       "[:, :, 2] =\n",
       " 7.40745e-312  7.40745e-312\n",
       " 7.40745e-312  7.40745e-312\n",
       " 7.40745e-312  7.40745e-312\n",
       " 7.40745e-312  7.40745e-312\n",
       " 7.40745e-312  7.40758e-312"
      ]
     },
     "execution_count": 29,
     "metadata": {},
     "output_type": "execute_result"
    }
   ],
   "source": [
    "array₁ = Array{Float64}(undef,5,2,2)"
   ]
  },
  {
   "cell_type": "markdown",
   "metadata": {},
   "source": [
    "- Array literal\n",
    "\n",
    "Se puede crear un array utilizando corchetes [] y separando los elementos por comas."
   ]
  },
  {
   "cell_type": "code",
   "execution_count": 31,
   "metadata": {},
   "outputs": [
    {
     "data": {
      "text/plain": [
       "2-element Vector{String}:\n",
       " \"hola\"\n",
       " \"mundo\""
      ]
     },
     "execution_count": 31,
     "metadata": {},
     "output_type": "execute_result"
    }
   ],
   "source": [
    "# Crear un array de enteros\n",
    "array_enteros = [1, 2, 3, 4, 5]\n",
    "\n",
    "# Crear un array de cadenas de texto\n",
    "array_cadenas = [\"hola\", \"mundo\"]\n"
   ]
  },
  {
   "cell_type": "markdown",
   "metadata": {},
   "source": [
    "- Array Vacio\n",
    "\n",
    "Se puede crear un array vacío y especificar su tipo."
   ]
  },
  {
   "cell_type": "code",
   "execution_count": 33,
   "metadata": {},
   "outputs": [
    {
     "data": {
      "text/plain": [
       "Int64[]"
      ]
     },
     "execution_count": 33,
     "metadata": {},
     "output_type": "execute_result"
    }
   ],
   "source": [
    "# Crear un array vacío de enteros\n",
    "array_vacio = Int64[]\n"
   ]
  },
  {
   "cell_type": "markdown",
   "metadata": {},
   "source": [
    "- Array con Valores Repetidos:\n",
    "\n",
    "Puedes crear un array con un valor repetido un cierto número de veces usando la función fill."
   ]
  },
  {
   "cell_type": "code",
   "execution_count": 34,
   "metadata": {},
   "outputs": [
    {
     "data": {
      "text/plain": [
       "5-element Vector{Int64}:\n",
       " 0\n",
       " 0\n",
       " 0\n",
       " 0\n",
       " 0"
      ]
     },
     "execution_count": 34,
     "metadata": {},
     "output_type": "execute_result"
    }
   ],
   "source": [
    "# Crear un array de tamaño 5, con todos los elementos igual a 0\n",
    "array_repetidos = fill(0, 5)\n"
   ]
  },
  {
   "cell_type": "markdown",
   "metadata": {},
   "source": [
    "- Array con un rango:\n",
    "\n",
    "Se puede crear un array que contenga un rango de números."
   ]
  },
  {
   "cell_type": "code",
   "execution_count": 35,
   "metadata": {},
   "outputs": [
    {
     "data": {
      "text/plain": [
       "10-element Vector{Int64}:\n",
       "  1\n",
       "  2\n",
       "  3\n",
       "  4\n",
       "  5\n",
       "  6\n",
       "  7\n",
       "  8\n",
       "  9\n",
       " 10"
      ]
     },
     "execution_count": 35,
     "metadata": {},
     "output_type": "execute_result"
    }
   ],
   "source": [
    "# Crear un array con números del 1 al 10\n",
    "array_rango = collect(1:10)\n"
   ]
  },
  {
   "cell_type": "markdown",
   "metadata": {},
   "source": [
    "- Array de ceros:\n",
    "Un array de ceros puede ser creado con el método zeros, que admite como argumentos el tipo de datos y luego las dimensiones del array."
   ]
  },
  {
   "cell_type": "code",
   "execution_count": 37,
   "metadata": {},
   "outputs": [
    {
     "data": {
      "text/plain": [
       "4×4 Matrix{Float64}:\n",
       " 0.0  0.0  0.0  0.0\n",
       " 0.0  0.0  0.0  0.0\n",
       " 0.0  0.0  0.0  0.0\n",
       " 0.0  0.0  0.0  0.0"
      ]
     },
     "execution_count": 37,
     "metadata": {},
     "output_type": "execute_result"
    }
   ],
   "source": [
    "array_zeros = zeros(Int64,4)\n",
    "matriz_zeros = zeros(Float64,4,4)"
   ]
  },
  {
   "cell_type": "markdown",
   "metadata": {},
   "source": [
    "10. 2  Acceder a los elementos de un array\n",
    "Se accede a los elementos de un array con [] e indicando la posición de elemento"
   ]
  },
  {
   "cell_type": "code",
   "execution_count": 38,
   "metadata": {},
   "outputs": [
    {
     "name": "stdout",
     "output_type": "stream",
     "text": [
      "El primer elemento es: 10\n"
     ]
    }
   ],
   "source": [
    "# Crear un array de enteros\n",
    "array_enteros = [10, 20, 30, 40, 50]\n",
    "\n",
    "# Acceder y mostrar el primer elemento del array\n",
    "primer_elemento = array_enteros[1]\n",
    "println(\"El primer elemento es: \", primer_elemento)  # 10"
   ]
  },
  {
   "cell_type": "markdown",
   "metadata": {},
   "source": [
    "Como puede ser observado, a diferencia de otros lenguajes de programación, Julia tiene indexación base-1, lo que significa que para el primer elemento del array tiene índice 1 no 0."
   ]
  },
  {
   "cell_type": "code",
   "execution_count": 39,
   "metadata": {},
   "outputs": [
    {
     "name": "stdout",
     "output_type": "stream",
     "text": [
      "El tercer elemento es: 30\n",
      "El último elemento es: 50\n",
      "Los elementos del segundo al cuarto son: [20, 30, 40]\n",
      "Los elementos en los índices 1, 3 y 5 son: [10, 30, 50]\n"
     ]
    }
   ],
   "source": [
    "# Crear un array de enteros\n",
    "array_enteros = [10, 20, 30, 40, 50]\n",
    "\n",
    "# Acceder y mostrar el tercer elemento del array\n",
    "tercer_elemento = array_enteros[3]\n",
    "println(\"El tercer elemento es: \", tercer_elemento)  # 30\n",
    "\n",
    "# Acceder y mostrar el último elemento del array\n",
    "ultimo_elemento = array_enteros[end]\n",
    "println(\"El último elemento es: \", ultimo_elemento)  # 50\n",
    "\n",
    "# Acceder y mostrar los elementos en un rango de índices (del segundo al cuarto)\n",
    "rango_elementos = array_enteros[2:4]\n",
    "println(\"Los elementos del segundo al cuarto son: \", rango_elementos)  # [20, 30, 40]\n",
    "\n",
    "# Acceder y mostrar elementos usando un array de índices específicos\n",
    "indices_especificos = [1, 3, 5]\n",
    "elementos_especificos = array_enteros[indices_especificos]\n",
    "println(\"Los elementos en los índices 1, 3 y 5 son: \", elementos_especificos)  # [10, 30, 50]\n"
   ]
  },
  {
   "cell_type": "markdown",
   "metadata": {},
   "source": [
    "Otros ejemplos de como acceder a los elementos de un array pueden ser:"
   ]
  },
  {
   "cell_type": "code",
   "execution_count": 40,
   "metadata": {},
   "outputs": [
    {
     "data": {
      "text/plain": [
       "\"Hola 1\""
      ]
     },
     "execution_count": 40,
     "metadata": {},
     "output_type": "execute_result"
    }
   ],
   "source": [
    "array3dim = cat([1 2; 3 4],[\"Hola 1\" \"Hola 2\"; \"Hola 3\" \"Hola 4\"],[5 6; 7 8],dims=3)\n",
    "\n",
    "array3dim[1,1,2] # Hola 1"
   ]
  },
  {
   "cell_type": "markdown",
   "metadata": {},
   "source": [
    "En este ejemplo se puede apreciar como accedemos a un elmento de un array de 3 dimensiones, basicamente indicando la posición con una terna de numeros. Aunque se puede acceder a más de un elemento extrayendo un subarray del primero:"
   ]
  },
  {
   "cell_type": "code",
   "execution_count": 46,
   "metadata": {},
   "outputs": [
    {
     "data": {
      "text/plain": [
       "2×2 Matrix{Any}:\n",
       " \"Hola 1\"  \"Hola 2\"\n",
       " \"Hola 3\"  \"Hola 4\""
      ]
     },
     "execution_count": 46,
     "metadata": {},
     "output_type": "execute_result"
    }
   ],
   "source": [
    "array3dim = cat([1 2; 3 4],[\"Hola 1\" \"Hola 2\"; \"Hola 3\" \"Hola 4\"],[5 6; 7 8],dims=3)\n",
    "\n",
    "array3dim[:,:,2]"
   ]
  },
  {
   "cell_type": "markdown",
   "metadata": {},
   "source": [
    "11.TUPLAS"
   ]
  },
  {
   "cell_type": "markdown",
   "metadata": {},
   "source": [
    "Una tupla es una colección ordenada de tamaño fijo que puede contener elementos de distintos tipos.\n",
    "Generalmente se usan para pasar parámetros o devolver valores de funciones.\n",
    "Se crean escribiendo sus elementos separados por comas entre paréntesis."
   ]
  },
  {
   "cell_type": "markdown",
   "metadata": {},
   "source": [
    "__ADVERTENCIA__: Las tuplas son inmutables, es decir, una vez creadas no pueden cambiarse sus elementos."
   ]
  },
  {
   "cell_type": "markdown",
   "metadata": {},
   "source": [
    "Las tuplas se crean usando las siguiente sintaxis: nombre = (itemq, item2, ....)"
   ]
  },
  {
   "cell_type": "code",
   "execution_count": 13,
   "metadata": {},
   "outputs": [
    {
     "name": "stdout",
     "output_type": "stream",
     "text": [
      "()\n",
      "(10, \"Marzo\", 200.23)\n"
     ]
    },
    {
     "data": {
      "text/plain": [
       "Tuple{Int64, String, Float64}"
      ]
     },
     "execution_count": 13,
     "metadata": {},
     "output_type": "execute_result"
    }
   ],
   "source": [
    "# Tupla vacia\n",
    "tp_vacia = ()\n",
    "println(tp_vacia)\n",
    "\n",
    "# tupla con distintos tipos de variables\n",
    "tp = (10,\"Marzo\",200.23)\n",
    "println(tp)\n",
    "\n",
    "typeof(tp_vacia)\n",
    "typeof(tp)"
   ]
  },
  {
   "cell_type": "markdown",
   "metadata": {},
   "source": [
    "11.1.Tuplas con Nombres"
   ]
  },
  {
   "cell_type": "markdown",
   "metadata": {},
   "source": [
    "Es posible asignar un nombre a cada uno de los elementos de la tupla. Para ello cada elemento de la tupla con nombre debe escribirse con la sintaxis: <br>\n",
    "__nombre = valor__"
   ]
  },
  {
   "cell_type": "code",
   "execution_count": 16,
   "metadata": {},
   "outputs": [
    {
     "name": "stdout",
     "output_type": "stream",
     "text": [
      "(pais = \"Venezuela\", estado = \"Carabobo\", ciudad = \"Valencia\")\n"
     ]
    },
    {
     "data": {
      "text/plain": [
       "@NamedTuple{pais::String, estado::String, ciudad::String}"
      ]
     },
     "execution_count": 16,
     "metadata": {},
     "output_type": "execute_result"
    }
   ],
   "source": [
    "tp = (pais = \"Venezuela\", estado = \"Carabobo\", ciudad = \"Valencia\")\n",
    "println(tp)\n",
    "typeof(tp)"
   ]
  },
  {
   "cell_type": "markdown",
   "metadata": {},
   "source": [
    "__ADVERTENCIA__: No puede haber dos elementos con el mismo nombre en una tupla.\n",
    "<br><br>\n",
    "La ventaja de usar tuplas con nombres es que podemos acceder a sus elementos por nombre, además de por índice."
   ]
  },
  {
   "cell_type": "markdown",
   "metadata": {},
   "source": [
    "11.2.Acesso de Elementos de una Tupla"
   ]
  },
  {
   "cell_type": "markdown",
   "metadata": {},
   "source": [
    "Como las tuplas tienen orden, podemos acceder a sus elementos mediante índices, al igual que con los arrays de una dimensión.\n",
    "\n",
    "* __t[i]__: Devuelve el elemento con íncide __i__ de la tupla __t__. <br>\n",
    "Si la tupla tiene nombres también es posible acceder a sus elementos mediante los nombres.\n",
    "* __t.x__: Devuelve el elemento con nombre __x__ de la tupla __t__."
   ]
  },
  {
   "cell_type": "code",
   "execution_count": 17,
   "metadata": {},
   "outputs": [
    {
     "name": "stdout",
     "output_type": "stream",
     "text": [
      "Valencia\n",
      "Venezuela\n"
     ]
    }
   ],
   "source": [
    "tp = (pais = \"Venezuela\", estado = \"Carabobo\", ciudad = \"Valencia\")\n",
    "\n",
    "println(tp[3]) # Valencia\n",
    "println(tp.pais) # Venezuela"
   ]
  },
  {
   "cell_type": "markdown",
   "metadata": {},
   "source": [
    "11.3.Asignacion Multiple de tuplas"
   ]
  },
  {
   "cell_type": "markdown",
   "metadata": {},
   "source": [
    "Es posible asignar los elementos de una tupla a distintas variables en una sola asignación.\n",
    "<br><br>\n",
    "__x, y, ... = t__: Asigna a las variables __x, y__, etc los elementos de la tupla __t__ en orden. Si el número de variables es menor que el tamaño de la tupla, los últimos elementos quedan sin asignar.\n",
    "\n",
    "__x, y... = t__: Asigna el primer elemento de la tupla __t__ a la variable __x__ y la tupla con los elementos restantes a la variable __y__."
   ]
  },
  {
   "cell_type": "code",
   "execution_count": 19,
   "metadata": {},
   "outputs": [
    {
     "name": "stdout",
     "output_type": "stream",
     "text": [
      "Juan\n",
      "2024\n",
      "h\n",
      "12.3\n",
      "Juan\n",
      "(2024, 'h', 12.3)\n"
     ]
    }
   ],
   "source": [
    "tp = (\"Juan\", 2024, 'h', 12.3)\n",
    "\n",
    "# asignamos cuatro variables a la tupla tp\n",
    "n, a, c, d = tp\n",
    "\n",
    "println(n)\n",
    "println(a)\n",
    "println(c)\n",
    "println(d)\n",
    "\n",
    "# asignamos 2 variables a la tupla tp\n",
    "n, acd... = tp\n",
    "\n",
    "println(n)\n",
    "println(acd)\n"
   ]
  }
 ],
 "metadata": {
  "kernelspec": {
   "display_name": "Julia 1.10.3",
   "language": "julia",
   "name": "julia-1.10"
  },
  "language_info": {
   "file_extension": ".jl",
   "mimetype": "application/julia",
   "name": "julia",
   "version": "1.10.3"
  }
 },
 "nbformat": 4,
 "nbformat_minor": 2
}
