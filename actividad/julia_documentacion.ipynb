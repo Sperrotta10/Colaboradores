{
 "cells": [
  {
   "cell_type": "markdown",
   "metadata": {},
   "source": [
    "1.¿Qué es?\n"
   ]
  },
  {
   "cell_type": "markdown",
   "metadata": {},
   "source": [
    "Es un lenguaje de programación gratuito y de código abierto para computación científica, técnica y genérica de alto rendimiento y alto nivel diseñado para realizar análisis numérico. Fue creado en 2009 por Alan Edelman, Stefan Karpinski, Jeff Bezanson y Viral Shah y se ha vuelto popular por su sintaxis expresiva y sus paquetes de Machine Learning de alta velocidad."
   ]
  },
  {
   "cell_type": "markdown",
   "metadata": {},
   "source": [
    "2.¿Cómo instalar?"
   ]
  },
  {
   "cell_type": "markdown",
   "metadata": {},
   "source": [
    "3.Sintaxis"
   ]
  },
  {
   "cell_type": "markdown",
   "metadata": {},
   "source": [
    "4.COMENTARIOS  \n",
    "\n",
    "Comentar o dejar documentación en diferentes partes de un código es muy útil para explicar en detalle que es exactamente qué cálculos se están realizando. Esto es particularmente útil cuando el código es compartido con otra persona o con uno mismo en el futuro.\n"
   ]
  },
  {
   "cell_type": "markdown",
   "metadata": {},
   "source": [
    "4.1.Tipos\n",
    "\n",
    "4.1.1.Comentarios de una sola línea: inician con # \n",
    "(Todo lo que precede a este símbolo será parte del comentario.)"
   ]
  },
  {
   "cell_type": "code",
   "execution_count": 1,
   "metadata": {},
   "outputs": [],
   "source": [
    "#Este es un comentario de una linea en Julia\n",
    "#Este es otro comentario"
   ]
  },
  {
   "cell_type": "markdown",
   "metadata": {},
   "source": [
    "4.1.2.Comentarios de bloque: inician con #= y cierran con =#\n",
    "Estos comentarios son útiles para escribir documentación detallada que requiera de varias líneas."
   ]
  },
  {
   "cell_type": "code",
   "execution_count": 2,
   "metadata": {},
   "outputs": [],
   "source": [
    "#= \n",
    "    esto\n",
    "    es un\n",
    "    coemntario de bloque\n",
    " =#"
   ]
  },
  {
   "cell_type": "markdown",
   "metadata": {},
   "source": [
    "5.VARIABLES"
   ]
  },
  {
   "cell_type": "markdown",
   "metadata": {},
   "source": [
    "Una variable es un elemento de datos con nombre que puede almacenar diferentes tipos de datos durante la ejecución de un programa. Las variables son fundamentales para el desarrollo de software y la creación de aplicaciones eficientes, ya que permiten a los desarrolladores manipular e interactuar con la información de manera dinámica."
   ]
  },
  {
   "cell_type": "markdown",
   "metadata": {},
   "source": [
    "En Julia para declarar variables: nombre_de_la_varaible = valor\n",
    "\n",
    "El valor asignado corresponde a un tipo de dato"
   ]
  },
  {
   "cell_type": "markdown",
   "metadata": {},
   "source": [
    "Importante:\n",
    "\n",
    "* Las variables deben tener nombres significativos\n",
    "* No deben empezar con numeros\n",
    "* No deben contener caracteres como @\n",
    "* No pueden ser palabras reservadas"
   ]
  },
  {
   "cell_type": "markdown",
   "metadata": {},
   "source": [
    "5.1.Tipo de Variables\n",
    "\n",
    "* 5.1.1.Int (entero)\n",
    "* 5.1.2.Float (decimal)\n",
    "* 5.1.3.String (cadena)\n",
    "* 5.1.4.Char (caracter)\n",
    "* 5.1.5.Booleano (logico)"
   ]
  },
  {
   "cell_type": "markdown",
   "metadata": {},
   "source": [
    "5.1.1.Int (entero)"
   ]
  },
  {
   "cell_type": "code",
   "execution_count": null,
   "metadata": {},
   "outputs": [],
   "source": [
    "# 64-bit system\n",
    "numero = 10\n",
    "typeof(numero)"
   ]
  },
  {
   "cell_type": "markdown",
   "metadata": {},
   "source": [
    "5.1.2.Float (decimal)"
   ]
  },
  {
   "cell_type": "code",
   "execution_count": null,
   "metadata": {},
   "outputs": [],
   "source": [
    "# 64-bit system\n",
    "numero = 6.23\n",
    "typeof(numero)"
   ]
  },
  {
   "cell_type": "markdown",
   "metadata": {},
   "source": [
    "5.1.3.String (cadena)"
   ]
  },
  {
   "cell_type": "code",
   "execution_count": 4,
   "metadata": {},
   "outputs": [
    {
     "data": {
      "text/plain": [
       "String"
      ]
     },
     "execution_count": 4,
     "metadata": {},
     "output_type": "execute_result"
    }
   ],
   "source": [
    "# Cadena de caracteres\n",
    "nombre = \"Luis Carlos\"\n",
    "typeof(nombre)"
   ]
  },
  {
   "cell_type": "markdown",
   "metadata": {},
   "source": [
    "5.1.4.Char (caracter)"
   ]
  },
  {
   "cell_type": "code",
   "execution_count": null,
   "metadata": {},
   "outputs": [],
   "source": [
    "# un caracter\n",
    "character = 'a'\n",
    "typeof(character)"
   ]
  },
  {
   "cell_type": "markdown",
   "metadata": {},
   "source": [
    "5.1.5.Booleano (logico)"
   ]
  },
  {
   "cell_type": "code",
   "execution_count": 1,
   "metadata": {},
   "outputs": [
    {
     "data": {
      "text/plain": [
       "Bool"
      ]
     },
     "execution_count": 1,
     "metadata": {},
     "output_type": "execute_result"
    }
   ],
   "source": [
    "# una variable logica verdadera\n",
    "logic1 = true\n",
    "typeof(logic1)\n",
    "\n",
    "# una variable logica falsa\n",
    "logic2 = false\n",
    "typeof(logic2)"
   ]
  },
  {
   "cell_type": "markdown",
   "metadata": {},
   "source": [
    "5.2.Variables Globales\n",
    "\n",
    "En Julia, las variables globales se definen en el ámbito global y pueden ser accedidas desde cualquier parte del código."
   ]
  },
  {
   "cell_type": "markdown",
   "metadata": {},
   "source": [
    "5.2.1.Declaración de variables globales:\n",
    "\n",
    " La palabra clave 'global' se utiliza para acceder a una variable desde una función o bloque de código; esta se agrega al principio de la linea de codigo donde se quiere declarar la variable global, y posteriormente se agrega el nombre de la variable, cabe mencionar que el valor de la variable se puede agregar después de la declaración global o cuando se realice la misma."
   ]
  },
  {
   "cell_type": "code",
   "execution_count": 3,
   "metadata": {},
   "outputs": [
    {
     "data": {
      "text/plain": [
       "56"
      ]
     },
     "execution_count": 3,
     "metadata": {},
     "output_type": "execute_result"
    }
   ],
   "source": [
    "# DECLARACION DE VARIABLE GLOBAL (Ejemplo)\n",
    "global varible_global = 56"
   ]
  },
  {
   "cell_type": "markdown",
   "metadata": {},
   "source": [
    "Nota: Las variables globales pueden cambiar de tipo y valor en cualquier momento (debido a que Julia es un lenguaje multihilo). Pero se recomienda utilizar variables locales en lugar de globales para mantener un código más limpio y eficiente, ya que se dificulta el seguimiento del código y puede afectar el rendimiento."
   ]
  },
  {
   "cell_type": "markdown",
   "metadata": {},
   "source": [
    "\n",
    "7.Operaciones Matemáticas Basicas\n",
    "    \n",
    "    Julia permite hacer las siguientes operaciones:\n",
    "    7.1.Suma (+)\n",
    "    7.2.Resta (-)\n",
    "    7.3.Multiplicación (*)\n",
    "    7.4.División (/)\n",
    "    7.5.Potencia (^)\n",
    "    7.6.Módulo (%)"
   ]
  },
  {
   "cell_type": "markdown",
   "metadata": {},
   "source": [
    "7.1.Suma (+)"
   ]
  },
  {
   "cell_type": "code",
   "execution_count": 4,
   "metadata": {},
   "outputs": [
    {
     "data": {
      "text/plain": [
       "8"
      ]
     },
     "execution_count": 4,
     "metadata": {},
     "output_type": "execute_result"
    }
   ],
   "source": [
    "#Variables\n",
    "x=3 \n",
    "y=5\n",
    "#operacion de suma\n",
    "x+y \n",
    "#output : 8"
   ]
  },
  {
   "cell_type": "markdown",
   "metadata": {},
   "source": [
    "7.2.Resta (-)"
   ]
  },
  {
   "cell_type": "code",
   "execution_count": 5,
   "metadata": {},
   "outputs": [
    {
     "data": {
      "text/plain": [
       "-2"
      ]
     },
     "execution_count": 5,
     "metadata": {},
     "output_type": "execute_result"
    }
   ],
   "source": [
    "#Variables\n",
    "y=5\n",
    "#operacion de resta\n",
    "x-y \n",
    "#output : -2"
   ]
  },
  {
   "cell_type": "markdown",
   "metadata": {},
   "source": [
    "7.3.Multiplicación (*)"
   ]
  },
  {
   "cell_type": "code",
   "execution_count": 6,
   "metadata": {},
   "outputs": [
    {
     "data": {
      "text/plain": [
       "15"
      ]
     },
     "execution_count": 6,
     "metadata": {},
     "output_type": "execute_result"
    }
   ],
   "source": [
    "#Variables\n",
    "x=3 \n",
    "y=5\n",
    "#operacion de multiplicación\n",
    "x*y \n",
    "#output : 15"
   ]
  },
  {
   "cell_type": "markdown",
   "metadata": {},
   "source": [
    "7.4.División (/)"
   ]
  },
  {
   "cell_type": "code",
   "execution_count": 7,
   "metadata": {},
   "outputs": [
    {
     "data": {
      "text/plain": [
       "5.0"
      ]
     },
     "execution_count": 7,
     "metadata": {},
     "output_type": "execute_result"
    }
   ],
   "source": [
    "#Variables \n",
    "x=25 \n",
    "y=5\n",
    "#operacion de división\n",
    "x/y \n",
    "#output : 5.0"
   ]
  },
  {
   "cell_type": "markdown",
   "metadata": {},
   "source": [
    "7.5.Potencia (^)"
   ]
  },
  {
   "cell_type": "code",
   "execution_count": 8,
   "metadata": {},
   "outputs": [
    {
     "data": {
      "text/plain": [
       "9"
      ]
     },
     "execution_count": 8,
     "metadata": {},
     "output_type": "execute_result"
    }
   ],
   "source": [
    "#Variables \n",
    "x=3\n",
    "y=2\n",
    "#operacion de potencia\n",
    "x^y \n",
    "#output : 9"
   ]
  },
  {
   "cell_type": "markdown",
   "metadata": {},
   "source": [
    "7.6.Módulo (%)"
   ]
  },
  {
   "cell_type": "code",
   "execution_count": 9,
   "metadata": {},
   "outputs": [
    {
     "data": {
      "text/plain": [
       "1"
      ]
     },
     "execution_count": 9,
     "metadata": {},
     "output_type": "execute_result"
    }
   ],
   "source": [
    "#Variables \n",
    "x=3\n",
    "y=2\n",
    "#operacion de módulo\n",
    "x%y #output : 1 "
   ]
  },
  {
   "cell_type": "markdown",
   "metadata": {},
   "source": [
    "8.Condicionales\n",
    "\n",
    "Los condicionales se utilizan para controlar el flujo del programa, ejecutando bloques de código diferentes según distintas condiciones.\n",
    "\n",
    "La sintaxis básica para los condicionales en Julia es la siguiente:\n",
    "\n",
    "    if condicion\n",
    "        # Bloque de código que se ejecuta si la condición es verdadera\n",
    "    elseif otra_condicion\n",
    "        # Bloque de código que se ejecuta si la primera condición es falsa y otra_condicion es verdadera\n",
    "    else\n",
    "        # Bloque de código que se ejecuta si ninguna de las condiciones anteriores es verdadera\n",
    "    end\n",
    "\n",
    "Ya sabiendo la estructura y como se usan los condicionales. vamos a hablar de los operadores lógicos. Estos operadores son fundamentales porque son los que utilizamos para realizar comparaciones y evaluar las condiciones en nuestros programas.\n"
   ]
  },
  {
   "cell_type": "markdown",
   "metadata": {},
   "source": [
    "8.1 Operadores:\n",
    "\n",
    "\n",
    "Los operadores lógicos nos permiten establecer reglas más complejas y precisas dentro de los condicionales, ayudándonos a tomar decisiones basadas en múltiples criterios. En Julia, existen varios tipos de operadores lógicos que podemos emplear para este propósito, y a continuación, describiremos los más comunes y su uso."
   ]
  },
  {
   "cell_type": "markdown",
   "metadata": {},
   "source": [
    "8.2 Operadores de comparación\n",
    "\n",
    "Estos operadores se utilizan para comparar valores numéricos, de texto o de cualquier otro tipo compatible. Los operadores de comparación más comunes son:"
   ]
  },
  {
   "cell_type": "markdown",
   "metadata": {},
   "source": [
    "- Operador < (menor que): Verifica si el valor a la izquierda es menor que el valor a la derecha."
   ]
  },
  {
   "cell_type": "code",
   "execution_count": 5,
   "metadata": {},
   "outputs": [
    {
     "data": {
      "text/plain": [
       "true"
      ]
     },
     "execution_count": 5,
     "metadata": {},
     "output_type": "execute_result"
    }
   ],
   "source": [
    "3 < 5  # true"
   ]
  },
  {
   "cell_type": "markdown",
   "metadata": {},
   "source": [
    "- Operador > (mayor que): Verifica si el valor a la izquierda es mayor que el valor a la derecha"
   ]
  },
  {
   "cell_type": "code",
   "execution_count": 6,
   "metadata": {},
   "outputs": [
    {
     "data": {
      "text/plain": [
       "true"
      ]
     },
     "execution_count": 6,
     "metadata": {},
     "output_type": "execute_result"
    }
   ],
   "source": [
    "5 > 3  # true"
   ]
  },
  {
   "cell_type": "markdown",
   "metadata": {},
   "source": [
    "- Operador <= (menor o igual que): Verifica si el valor a la izquierda es menor o igual que el valor a la derecha."
   ]
  },
  {
   "cell_type": "code",
   "execution_count": 7,
   "metadata": {},
   "outputs": [
    {
     "data": {
      "text/plain": [
       "true"
      ]
     },
     "execution_count": 7,
     "metadata": {},
     "output_type": "execute_result"
    }
   ],
   "source": [
    "3 <= 3  # true"
   ]
  },
  {
   "cell_type": "markdown",
   "metadata": {},
   "source": [
    "- Operador >= (mayor o igual que): Verifica si el valor a la izquierda es mayor o igual que el valor a la derecha."
   ]
  },
  {
   "cell_type": "code",
   "execution_count": 8,
   "metadata": {},
   "outputs": [
    {
     "data": {
      "text/plain": [
       "true"
      ]
     },
     "execution_count": 8,
     "metadata": {},
     "output_type": "execute_result"
    }
   ],
   "source": [
    "5 >= 3  # true"
   ]
  },
  {
   "cell_type": "code",
   "execution_count": 4,
   "metadata": {},
   "outputs": [
    {
     "name": "stdout",
     "output_type": "stream",
     "text": [
      "Adulto\n"
     ]
    }
   ],
   "source": [
    "# Definimos la variable de edad con la que vamos a trabajar y comparar\n",
    "edad = 25\n",
    "\n",
    "# Evaluamos la condición para determinar la categoría de edad y ejecutamos el bloque de código correspondiente\n",
    "\n",
    "# Si la edad es menor que 13, imprimimos \"Niño\"\n",
    "if edad < 13\n",
    "    println(\"Niño\")\n",
    "# Si la edad es mayor o igual a 13 y menor o igual a 19, imprimimos \"Adolescente\"\n",
    "elseif edad >= 13 && edad <= 19\n",
    "    println(\"Adolescente\")\n",
    "# Si la edad es mayor o igual a 20 y menor o igual a 64, imprimimos \"Adulto\"\n",
    "elseif edad >= 20 && edad <= 64\n",
    "    println(\"Adulto\")\n",
    "# Si ninguna de las condiciones anteriores se cumple, significa que la edad es mayor o igual a 65, por lo tanto, imprimimos \"Anciano\"\n",
    "else\n",
    "    println(\"Anciano\")\n",
    "end\n",
    "\n"
   ]
  },
  {
   "cell_type": "markdown",
   "metadata": {},
   "source": [
    "8.1 Operadores lógicos\n",
    "\n",
    "Ahora hablaremos de los operadores lógicos"
   ]
  },
  {
   "cell_type": "markdown",
   "metadata": {},
   "source": [
    "9.Listas"
   ]
  },
  {
   "cell_type": "markdown",
   "metadata": {},
   "source": [
    "10.Ciclos\n",
    "\n",
    "Tipos"
   ]
  },
  {
   "cell_type": "markdown",
   "metadata": {},
   "source": [
    "10.1.Ciclo for"
   ]
  },
  {
   "cell_type": "markdown",
   "metadata": {},
   "source": [
    "10.2.Ciclo while"
   ]
  }
 ],
 "metadata": {
  "kernelspec": {
   "display_name": "Julia 1.10.3",
   "language": "julia",
   "name": "julia-1.10"
  },
  "language_info": {
   "file_extension": ".jl",
   "mimetype": "application/julia",
   "name": "julia",
   "version": "1.10.3"
  }
 },
 "nbformat": 4,
 "nbformat_minor": 2
}
