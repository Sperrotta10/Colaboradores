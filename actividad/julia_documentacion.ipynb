{
 "cells": [
  {
   "cell_type": "markdown",
   "metadata": {},
   "source": [
    "1.¿Qué es?\n"
   ]
  },
  {
   "cell_type": "markdown",
   "metadata": {},
   "source": [
    "2.¿Cómo instalar?"
   ]
  },
  {
   "cell_type": "markdown",
   "metadata": {},
   "source": [
    "3.Sintaxis"
   ]
  },
  {
   "cell_type": "markdown",
   "metadata": {},
   "source": [
    "4.Comentarios"
   ]
  },
  {
   "cell_type": "markdown",
   "metadata": {},
   "source": [
    "5.Variables"
   ]
  },
  {
   "cell_type": "markdown",
   "metadata": {},
   "source": [
    "5.1.Variables Globales\n",
    "En Julia, las variables globales se definen en el ámbito global y pueden ser accedidas desde cualquier parte del código.\n",
    "\n",
    "5.2.Declaración de variables globales:\n",
    "La palabra clave 'global' se utiliza para acceder a una variable desde una función o bloque de código; esta se agrega al principio de la linea de codigo donde se quiere declarar la variable global, y posteriormente se agrega el nombre de la variable, cabe mencionar que el valor de la variable se puede agregar después de la declaración global o cuando se realice la misma."
   ]
  },
  {
   "cell_type": "code",
   "execution_count": null,
   "metadata": {},
   "outputs": [],
   "source": [
    "# DECLARACION DE VARIABLE GLOBAL (Ejemplo)\n",
    "global varible_global = 56"
   ]
  },
  {
   "cell_type": "markdown",
   "metadata": {},
   "source": [
    "Nota: Las variables globales pueden cambiar de tipo y valor en cualquier momento (debido a que Julia es un lenguaje multihilo). Pero se recomienda utilizar variables locales en lugar de globales para mantener un código más limpio y eficiente, ya que se dificulta el seguimiento del código y puede afectar el rendimiento."
   ]
  },
  {
   "cell_type": "markdown",
   "metadata": {},
   "source": [
    "7.Operaciones basicas"
   ]
  },
  {
   "cell_type": "markdown",
   "metadata": {},
   "source": [
    "8.Condicionales"
   ]
  },
  {
   "cell_type": "markdown",
   "metadata": {},
   "source": [
    "9.Listas"
   ]
  },
  {
   "cell_type": "markdown",
   "metadata": {},
   "source": [
    "10.Ciclos\n",
    "\n",
    "Tipos"
   ]
  },
  {
   "cell_type": "markdown",
   "metadata": {},
   "source": [
    "10.1.Ciclo for"
   ]
  },
  {
   "cell_type": "markdown",
   "metadata": {},
   "source": [
    "10.2.Ciclo while"
   ]
  }
 ],
 "metadata": {
  "kernelspec": {
   "display_name": "Julia 1.6.7",
   "language": "julia",
   "name": "julia-1.6"
  },
  "language_info": {
   "file_extension": ".jl",
   "mimetype": "application/julia",
   "name": "julia",
   "version": "1.6.7"
  }
 },
 "nbformat": 4,
 "nbformat_minor": 2
}
