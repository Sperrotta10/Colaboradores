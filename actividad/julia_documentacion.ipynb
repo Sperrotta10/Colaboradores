{
 "cells": [
  {
   "cell_type": "markdown",
   "metadata": {},
   "source": [
    "1.¿Qué es?\n"
   ]
  },
  {
   "cell_type": "markdown",
   "metadata": {},
   "source": [
    "2.¿Cómo instalar?"
   ]
  },
  {
   "cell_type": "markdown",
   "metadata": {},
   "source": [
    "3.Sintaxis"
   ]
  },
  {
   "cell_type": "markdown",
   "metadata": {},
   "source": [
    "4.COMENTARIOS  \n",
    "\n",
    "Comentar o dejar documentación en diferentes partes de un código es muy útil para explicar en detalle que es exactamente qué cálculos se están realizando. Esto es particularmente útil cuando el código es compartido con otra persona o con uno mismo en el futuro.\n"
   ]
  },
  {
   "cell_type": "markdown",
   "metadata": {},
   "source": [
    "4.1.Tipos\n",
    "\n",
    "4.1.1.Comentarios de una sola línea: inician con # \n",
    "(Todo lo que precede a este símbolo será parte del comentario.)"
   ]
  },
  {
   "cell_type": "code",
   "execution_count": 1,
   "metadata": {},
   "outputs": [],
   "source": [
    "#Este es un comentario de una linea en Julia\n",
    "#Este es otro comentario"
   ]
  },
  {
   "cell_type": "markdown",
   "metadata": {},
   "source": [
    "4.1.2.Comentarios de bloque: inician con #= y cierran con =#\n",
    "Estos comentarios son útiles para escribir documentación detallada que requiera de varias líneas."
   ]
  },
  {
   "cell_type": "code",
   "execution_count": 2,
   "metadata": {},
   "outputs": [],
   "source": [
    "#= \n",
    "    esto\n",
    "    es un\n",
    "    coemntario de bloque\n",
    " =#"
   ]
  },
  {
   "cell_type": "markdown",
   "metadata": {},
   "source": [
    "5.VARIABLES"
   ]
  },
  {
   "cell_type": "markdown",
   "metadata": {},
   "source": [
    "5.1.Variables Globales\n",
    "\n",
    "En Julia, las variables globales se definen en el ámbito global y pueden ser accedidas desde cualquier parte del código."
   ]
  },
  {
   "cell_type": "markdown",
   "metadata": {},
   "source": [
    "5.1.1.Declaración de variables globales:\n",
    "\n",
    " La palabra clave 'global' se utiliza para acceder a una variable desde una función o bloque de código; esta se agrega al principio de la linea de codigo donde se quiere declarar la variable global, y posteriormente se agrega el nombre de la variable, cabe mencionar que el valor de la variable se puede agregar después de la declaración global o cuando se realice la misma."
   ]
  },
  {
   "cell_type": "code",
   "execution_count": 3,
   "metadata": {},
   "outputs": [
    {
     "data": {
      "text/plain": [
       "56"
      ]
     },
     "execution_count": 3,
     "metadata": {},
     "output_type": "execute_result"
    }
   ],
   "source": [
    "# DECLARACION DE VARIABLE GLOBAL (Ejemplo)\n",
    "global varible_global = 56"
   ]
  },
  {
   "cell_type": "markdown",
   "metadata": {},
   "source": [
    "Nota: Las variables globales pueden cambiar de tipo y valor en cualquier momento (debido a que Julia es un lenguaje multihilo). Pero se recomienda utilizar variables locales en lugar de globales para mantener un código más limpio y eficiente, ya que se dificulta el seguimiento del código y puede afectar el rendimiento."
   ]
  },
  {
   "cell_type": "markdown",
   "metadata": {},
   "source": [
    "\n",
    "7.Operaciones Matemáticas Basicas\n",
    "    \n",
    "    Julia permite hacer las siguientes operaciones:\n",
    "    7.1.Suma (+)\n",
    "    7.2.Resta (-)\n",
    "    7.3.Multiplicación (*)\n",
    "    7.4.División (/)\n",
    "    7.5.Potencia (^)\n",
    "    7.6.Módulo (%)"
   ]
  },
  {
   "cell_type": "markdown",
   "metadata": {},
   "source": [
    "7.1.Suma (+)"
   ]
  },
  {
   "cell_type": "code",
   "execution_count": 4,
   "metadata": {},
   "outputs": [
    {
     "data": {
      "text/plain": [
       "8"
      ]
     },
     "execution_count": 4,
     "metadata": {},
     "output_type": "execute_result"
    }
   ],
   "source": [
    "#Variables\n",
    "x=3 \n",
    "y=5\n",
    "#operacion de suma\n",
    "x+y \n",
    "#output : 8"
   ]
  },
  {
   "cell_type": "markdown",
   "metadata": {},
   "source": [
    "7.2.Resta (-)"
   ]
  },
  {
   "cell_type": "code",
   "execution_count": 5,
   "metadata": {},
   "outputs": [
    {
     "data": {
      "text/plain": [
       "-2"
      ]
     },
     "execution_count": 5,
     "metadata": {},
     "output_type": "execute_result"
    }
   ],
   "source": [
    "#Variables\n",
    "y=5\n",
    "#operacion de resta\n",
    "x-y \n",
    "#output : -2"
   ]
  },
  {
   "cell_type": "markdown",
   "metadata": {},
   "source": [
    "7.3.Multiplicación (*)"
   ]
  },
  {
   "cell_type": "code",
   "execution_count": 6,
   "metadata": {},
   "outputs": [
    {
     "data": {
      "text/plain": [
       "15"
      ]
     },
     "execution_count": 6,
     "metadata": {},
     "output_type": "execute_result"
    }
   ],
   "source": [
    "#Variables\n",
    "x=3 \n",
    "y=5\n",
    "#operacion de multiplicación\n",
    "x*y \n",
    "#output : 15"
   ]
  },
  {
   "cell_type": "markdown",
   "metadata": {},
   "source": [
    "7.4.División (/)"
   ]
  },
  {
   "cell_type": "code",
   "execution_count": 7,
   "metadata": {},
   "outputs": [
    {
     "data": {
      "text/plain": [
       "5.0"
      ]
     },
     "execution_count": 7,
     "metadata": {},
     "output_type": "execute_result"
    }
   ],
   "source": [
    "#Variables \n",
    "x=25 \n",
    "y=5\n",
    "#operacion de división\n",
    "x/y \n",
    "#output : 5.0"
   ]
  },
  {
   "cell_type": "markdown",
   "metadata": {},
   "source": [
    "7.5.Potencia (^)"
   ]
  },
  {
   "cell_type": "code",
   "execution_count": 8,
   "metadata": {},
   "outputs": [
    {
     "data": {
      "text/plain": [
       "9"
      ]
     },
     "execution_count": 8,
     "metadata": {},
     "output_type": "execute_result"
    }
   ],
   "source": [
    "#Variables \n",
    "x=3\n",
    "y=2\n",
    "#operacion de potencia\n",
    "x^y \n",
    "#output : 9"
   ]
  },
  {
   "cell_type": "markdown",
   "metadata": {},
   "source": [
    "7.6.Módulo (%)"
   ]
  },
  {
   "cell_type": "code",
   "execution_count": 9,
   "metadata": {},
   "outputs": [
    {
     "data": {
      "text/plain": [
       "1"
      ]
     },
     "execution_count": 9,
     "metadata": {},
     "output_type": "execute_result"
    }
   ],
   "source": [
    "#Variables \n",
    "x=3\n",
    "y=2\n",
    "#operacion de módulo\n",
    "x%y #output : 1 "
   ]
  },
  {
   "cell_type": "markdown",
   "metadata": {},
   "source": [
    "8.Condicionales"
   ]
  },
  {
   "cell_type": "markdown",
   "metadata": {},
   "source": [
    "9.Listas"
   ]
  },
  {
   "cell_type": "markdown",
   "metadata": {},
   "source": [
    "10.Ciclos\n",
    "\n",
    "Tipos"
   ]
  },
  {
   "cell_type": "markdown",
   "metadata": {},
   "source": [
    "10.1.Ciclo for"
   ]
  },
  {
   "cell_type": "markdown",
   "metadata": {},
   "source": [
    "10.2.Ciclo while"
   ]
  }
 ],
 "metadata": {
  "kernelspec": {
   "display_name": "Julia 1.6.7",
   "language": "julia",
   "name": "julia-1.6"
  },
  "language_info": {
   "file_extension": ".jl",
   "mimetype": "application/julia",
   "name": "julia",
   "version": "1.6.7"
  }
 },
 "nbformat": 4,
 "nbformat_minor": 2
}
